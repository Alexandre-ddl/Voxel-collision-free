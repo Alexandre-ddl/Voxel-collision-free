{
 "cells": [
  {
   "cell_type": "code",
   "execution_count": 17,
   "id": "7923dbc7",
   "metadata": {},
   "outputs": [],
   "source": [
    "import open3d as o3d\n",
    "import numpy as np\n",
    "\n",
    "import sys\n",
    "sys.path.insert(0, '../')\n",
    "\n",
    "from  creation_vector import Vector_Creation\n",
    "from  Voxel_model import Voxels\n",
    "from  Path_create import Create_Path\n",
    "from  mesh_tools import translation\n",
    "import networkx as nx\n",
    "from tqdm import tqdm"
   ]
  },
  {
   "cell_type": "code",
   "execution_count": 18,
   "id": "88dace3c",
   "metadata": {},
   "outputs": [],
   "source": [
    "def visualisation(see_what : list):\n",
    "    create_coordinate_frame = o3d.geometry.TriangleMesh.create_coordinate_frame(size=1, origin=[0, 0, 0])\n",
    "    see_what.append(create_coordinate_frame)\n",
    "    o3d.visualization.draw_geometries(see_what, mesh_show_wireframe=False )"
   ]
  },
  {
   "cell_type": "code",
   "execution_count": 19,
   "id": "51f3ab08",
   "metadata": {},
   "outputs": [],
   "source": [
    "tool = o3d.io.read_triangle_mesh('../Object/Deposition Head.stl')\n",
    "collision = o3d.io.read_triangle_mesh('../Object/collision.stl')"
   ]
  },
  {
   "cell_type": "markdown",
   "id": "fc0da9d5",
   "metadata": {},
   "source": [
    "- model voxel"
   ]
  },
  {
   "cell_type": "code",
   "execution_count": 20,
   "id": "851eb735",
   "metadata": {},
   "outputs": [],
   "source": [
    "scale_voxel = 0.5\n",
    "scale_print= 500\n",
    "number_of_points = 1000000\n",
    "vox = Voxels(scale_print,scale_voxel)"
   ]
  },
  {
   "cell_type": "markdown",
   "id": "4835d6fb",
   "metadata": {},
   "source": [
    "- object de collision voxel"
   ]
  },
  {
   "cell_type": "code",
   "execution_count": 21,
   "id": "78ed4ff1",
   "metadata": {},
   "outputs": [],
   "source": [
    "from Voxelize import Voxelize\n",
    "from coord_voxel import coord_voxel\n",
    "\n",
    "colli_voxel = Voxelize(collision , scale_voxel ,number_of_points,True )\n",
    "colli_voxel_coord = coord_voxel(colli_voxel)"
   ]
  },
  {
   "cell_type": "markdown",
   "id": "587ce3c4",
   "metadata": {},
   "source": [
    "- creation tool_path"
   ]
  },
  {
   "cell_type": "code",
   "execution_count": 22,
   "id": "82f35066",
   "metadata": {},
   "outputs": [],
   "source": [
    "path = Create_Path('../Object//UM3E_Copy of Cube Extruder (3).gcode') \n",
    "path.read_gcode(12)\n",
    "\n",
    "Collision = Create_Path('../Object//UM3E_collision.gcode')\n",
    "Collision.read_gcode(11)\n",
    "path.centrer(Collision.tool_path)\n",
    "\n",
    "path.correction(vox.scale_voxel)\n",
    "\n",
    "#path.figure(colli_voxel_coord)"
   ]
  },
  {
   "cell_type": "markdown",
   "id": "3859620c",
   "metadata": {},
   "source": [
    "- centrer le chemin au milieu du model voxel"
   ]
  },
  {
   "cell_type": "code",
   "execution_count": 23,
   "id": "0f6ef44a",
   "metadata": {},
   "outputs": [],
   "source": [
    "centre = np.array([colli_voxel_coord[:,0].mean(),colli_voxel_coord[:,1].mean(),0]).astype(int)\n",
    "colli_voxel_coord = translation(colli_voxel_coord,centre,vox.midle)\n",
    "path.translat(centre,vox.midle)\n",
    "#path.figure(colli_voxel_coord)"
   ]
  },
  {
   "cell_type": "markdown",
   "id": "56feb022",
   "metadata": {},
   "source": [
    "- centrer le tool"
   ]
  },
  {
   "cell_type": "code",
   "execution_count": 24,
   "id": "e8a85270",
   "metadata": {},
   "outputs": [],
   "source": [
    "from centrer_mesh0 import centrer_mesh0\n",
    "centrer_mesh0(tool)"
   ]
  },
  {
   "cell_type": "markdown",
   "id": "f7a0d3ba",
   "metadata": {},
   "source": [
    "- ajout de densité"
   ]
  },
  {
   "cell_type": "code",
   "execution_count": 25,
   "id": "872d7c38",
   "metadata": {},
   "outputs": [
    {
     "data": {
      "text/plain": [
       "True"
      ]
     },
     "execution_count": 25,
     "metadata": {},
     "output_type": "execute_result"
    }
   ],
   "source": [
    "vox.add_density(colli_voxel_coord)\n",
    "\n",
    "vox.density(colli_voxel_coord)"
   ]
  },
  {
   "cell_type": "markdown",
   "id": "f3a001e1",
   "metadata": {},
   "source": [
    "- creation vecteur "
   ]
  },
  {
   "cell_type": "code",
   "execution_count": 26,
   "id": "cc97e45f",
   "metadata": {},
   "outputs": [],
   "source": [
    "from points_Octree import points_Octree\n",
    "from parcourir_octree_dico import dic\n",
    "\n",
    "theta , theta_max = 10 , 50\n",
    "Circle=Vector_Creation(np.deg2rad(theta),np.deg2rad(theta_max))\n",
    "\n",
    "position_head_layer_circle = {i: [] for i in Circle }\n",
    "octree_haed_layer_circle = {i: [] for i in Circle }\n",
    "\n",
    "G = nx.DiGraph()\n",
    "path_tool = path.tool_path[5000:5001] # you can increase the number of test points on the path\n",
    "num_layers = len(path_tool)\n",
    "layer_vertex = {i: [] for i in range(num_layers)}\n",
    "\n",
    "\n",
    "delta_colli = 4\n",
    "delta_tool = 4\n",
    "octree_collision = points_Octree(colli_voxel_coord , delta_colli)\n",
    "\n",
    "pcd = o3d.geometry.PointCloud()\n",
    "pcd.points = o3d.utility.Vector3dVector(colli_voxel_coord)\n",
    "\n",
    "octree_collision_dic = {}\n",
    "dic(octree_collision,octree_collision_dic)\n",
    "#visualisation([octree_collision,pcd])"
   ]
  },
  {
   "cell_type": "code",
   "execution_count": 27,
   "id": "e5f951b0",
   "metadata": {},
   "outputs": [
    {
     "data": {
      "text/plain": [
       "1"
      ]
     },
     "execution_count": 27,
     "metadata": {},
     "output_type": "execute_result"
    }
   ],
   "source": [
    "num_layers"
   ]
  },
  {
   "cell_type": "code",
   "execution_count": 28,
   "id": "13fa32b6",
   "metadata": {},
   "outputs": [
    {
     "data": {
      "text/plain": [
       "4"
      ]
     },
     "execution_count": 28,
     "metadata": {},
     "output_type": "execute_result"
    }
   ],
   "source": [
    "delta_tool"
   ]
  },
  {
   "cell_type": "markdown",
   "id": "ee30af40",
   "metadata": {},
   "source": [
    "- fonction free_path"
   ]
  },
  {
   "cell_type": "code",
   "execution_count": 29,
   "id": "2920e211",
   "metadata": {},
   "outputs": [
    {
     "name": "stderr",
     "output_type": "stream",
     "text": [
      "100%|████████████████████████████████████████████| 1/1 [02:10<00:00, 130.23s/it]\n"
     ]
    },
    {
     "name": "stdout",
     "output_type": "stream",
     "text": [
      "\u001b[1;33m[Open3D WARNING] GLFW Error: Cocoa: Failed to find service port for display\u001b[0;m\n",
      "\u001b[1;33m[Open3D WARNING] GLFW Error: Cocoa: Failed to find service port for display\u001b[0;m\n"
     ]
    }
   ],
   "source": [
    "from Free_path_octrees import Free_path_octrees\n",
    "\n",
    "free_path=Free_path_octrees(vox, path_tool, tool , theta, position_head_layer_circle,Circle,G, layer_vertex , octree_haed_layer_circle , octree_collision_dic , delta_tool, number_of_points)\n",
    "\n",
    "free_path[1:-1]\n",
    "\n",
    "pcd_tool = o3d.geometry.PointCloud()\n",
    "pcd_tool.points = o3d.utility.Vector3dVector(position_head_layer_circle[3][3])\n",
    "\n",
    "visualisation([pcd,pcd_tool])"
   ]
  },
  {
   "cell_type": "code",
   "execution_count": null,
   "id": "44a44222",
   "metadata": {},
   "outputs": [],
   "source": []
  }
 ],
 "metadata": {
  "kernelspec": {
   "display_name": "Python 3 (ipykernel)",
   "language": "python",
   "name": "python3"
  },
  "language_info": {
   "codemirror_mode": {
    "name": "ipython",
    "version": 3
   },
   "file_extension": ".py",
   "mimetype": "text/x-python",
   "name": "python",
   "nbconvert_exporter": "python",
   "pygments_lexer": "ipython3",
   "version": "3.10.10"
  }
 },
 "nbformat": 4,
 "nbformat_minor": 5
}
