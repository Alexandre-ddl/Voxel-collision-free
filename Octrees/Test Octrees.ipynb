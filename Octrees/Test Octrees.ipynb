{
 "cells": [
  {
   "cell_type": "code",
   "execution_count": 58,
   "id": "44fc7889",
   "metadata": {},
   "outputs": [],
   "source": [
    "import open3d as o3d\n",
    "import numpy as np\n",
    "import copy as copy\n",
    "import matplotlib.pyplot as plt\n",
    "\n",
    "from rotation import rotation\n",
    "from points_Octree import points_Octree\n",
    "from Voxel_Octree import Voxel_Octree\n",
    "from parcourir_octree_dico import dic\n",
    "\n",
    "from collision_octree import collision_octree\n",
    "from collision_octree_non_dic import collision_octree_non_dic\n",
    "\n",
    "from mask_tab import mask_tab\n",
    "from Voxelize import Voxelize\n",
    "from coord_voxel import coord_voxel\n",
    "\n",
    "\n",
    "\n",
    "tool = o3d.io.read_triangle_mesh('../Object/Deposition Head.stl')\n",
    "collision = o3d.io.read_triangle_mesh('../Object/collision.stl')\n"
   ]
  },
  {
   "cell_type": "markdown",
   "id": "afd2f6f0",
   "metadata": {},
   "source": [
    "# Creation voxel à partir des meshs"
   ]
  },
  {
   "cell_type": "code",
   "execution_count": 28,
   "id": "4e514418",
   "metadata": {},
   "outputs": [],
   "source": [
    "voxel_size = 0.5  # Vous pouvez définir la taille des voxels en fonction de vos besoins\n",
    "voxel_grid1 = o3d.geometry.VoxelGrid.create_from_triangle_mesh(tool, voxel_size)\n",
    "voxel_grid2 = o3d.geometry.VoxelGrid.create_from_triangle_mesh(collision, voxel_size)"
   ]
  },
  {
   "cell_type": "code",
   "execution_count": 29,
   "id": "a6ab5ec9",
   "metadata": {},
   "outputs": [
    {
     "name": "stdout",
     "output_type": "stream",
     "text": [
      "\u001b[1;33m[Open3D WARNING] GLFW Error: Cocoa: Failed to find service port for display\u001b[0;m\n",
      "\u001b[1;33m[Open3D WARNING] GLFW Error: Cocoa: Failed to find service port for display\u001b[0;m\n"
     ]
    }
   ],
   "source": [
    "visualisation([voxel_grid1])"
   ]
  },
  {
   "cell_type": "markdown",
   "id": "5a46cd44",
   "metadata": {},
   "source": [
    "# Creation voxel à partir d'un nuage de points"
   ]
  },
  {
   "cell_type": "code",
   "execution_count": 30,
   "id": "212bfde2",
   "metadata": {},
   "outputs": [],
   "source": [
    "voxel_size = 0.5  # Taille du voxel\n",
    "number_of_points = 1000000\n",
    "point_cloud = tool.sample_points_uniformly(number_of_points)"
   ]
  },
  {
   "cell_type": "code",
   "execution_count": 31,
   "id": "9358b349",
   "metadata": {},
   "outputs": [],
   "source": [
    "vect = - point_cloud.get_min_bound() + voxel_size/2"
   ]
  },
  {
   "cell_type": "code",
   "execution_count": 32,
   "id": "97649c76",
   "metadata": {},
   "outputs": [
    {
     "data": {
      "text/plain": [
       "PointCloud with 1000000 points."
      ]
     },
     "execution_count": 32,
     "metadata": {},
     "output_type": "execute_result"
    }
   ],
   "source": [
    "point_cloud.translate(vect)"
   ]
  },
  {
   "cell_type": "code",
   "execution_count": 33,
   "id": "3041de23",
   "metadata": {},
   "outputs": [],
   "source": [
    "voxel_grid1 = o3d.geometry.VoxelGrid.create_from_point_cloud(point_cloud, voxel_size)"
   ]
  },
  {
   "cell_type": "code",
   "execution_count": 34,
   "id": "bd119159",
   "metadata": {},
   "outputs": [
    {
     "data": {
      "text/plain": [
       "array([0., 0., 0.])"
      ]
     },
     "execution_count": 34,
     "metadata": {},
     "output_type": "execute_result"
    }
   ],
   "source": [
    "voxel_grid1.get_min_bound()"
   ]
  },
  {
   "cell_type": "code",
   "execution_count": 35,
   "id": "e5631cf1",
   "metadata": {},
   "outputs": [
    {
     "name": "stdout",
     "output_type": "stream",
     "text": [
      "\u001b[1;33m[Open3D WARNING] GLFW Error: Cocoa: Failed to find service port for display\u001b[0;m\n",
      "\u001b[1;33m[Open3D WARNING] GLFW Error: Cocoa: Failed to find service port for display\u001b[0;m\n"
     ]
    }
   ],
   "source": [
    "visualisation([voxel_grid1,tool])"
   ]
  },
  {
   "cell_type": "code",
   "execution_count": 36,
   "id": "eb28a424",
   "metadata": {},
   "outputs": [
    {
     "data": {
      "text/plain": [
       "array([0, 0, 0], dtype=int32)"
      ]
     },
     "execution_count": 36,
     "metadata": {},
     "output_type": "execute_result"
    }
   ],
   "source": [
    "coord_voxel(voxel_grid1).min(axis=0)"
   ]
  },
  {
   "cell_type": "markdown",
   "id": "80bcb1d0",
   "metadata": {},
   "source": [
    "# Récuperation des voxels de la grille "
   ]
  },
  {
   "cell_type": "code",
   "execution_count": 37,
   "id": "0f6f2365",
   "metadata": {},
   "outputs": [],
   "source": [
    "grid_indices = coord_voxel(voxel_grid1)"
   ]
  },
  {
   "cell_type": "code",
   "execution_count": 38,
   "id": "c3e4e91c",
   "metadata": {},
   "outputs": [
    {
     "data": {
      "text/plain": [
       "139868"
      ]
     },
     "execution_count": 38,
     "metadata": {},
     "output_type": "execute_result"
    }
   ],
   "source": [
    "len(grid_indices)"
   ]
  },
  {
   "cell_type": "code",
   "execution_count": 39,
   "id": "041c7919",
   "metadata": {},
   "outputs": [],
   "source": [
    "test = np.array([np.asarray(voxel_grid1.get_voxel_bounding_points(np.array(ele))) for ele in grid_indices])"
   ]
  },
  {
   "cell_type": "code",
   "execution_count": 40,
   "id": "b9d9dfe0",
   "metadata": {},
   "outputs": [],
   "source": [
    "test=test.reshape((len(grid_indices)*8,3))"
   ]
  },
  {
   "cell_type": "code",
   "execution_count": 41,
   "id": "642405be",
   "metadata": {},
   "outputs": [
    {
     "data": {
      "text/plain": [
       "294711"
      ]
     },
     "execution_count": 41,
     "metadata": {},
     "output_type": "execute_result"
    }
   ],
   "source": [
    "\n",
    "unique_tab = np.unique(test, axis=0)\n",
    "\n",
    "len(unique_tab)\n"
   ]
  },
  {
   "cell_type": "markdown",
   "id": "7c45c007",
   "metadata": {},
   "source": [
    "# Creation octree"
   ]
  },
  {
   "cell_type": "code",
   "execution_count": 44,
   "id": "e1b7f254",
   "metadata": {},
   "outputs": [],
   "source": [
    "voxel_size=0.5\n",
    "delta_max_deth=2\n",
    "octree = Voxel_Octree(voxel_grid1 , delta_max_deth , voxel_size)"
   ]
  },
  {
   "cell_type": "code",
   "execution_count": 45,
   "id": "ce0ff987",
   "metadata": {},
   "outputs": [
    {
     "data": {
      "text/plain": [
       "array([80.25, 80.25, 80.25])"
      ]
     },
     "execution_count": 45,
     "metadata": {},
     "output_type": "execute_result"
    }
   ],
   "source": [
    "octree.get_center()"
   ]
  },
  {
   "cell_type": "code",
   "execution_count": 46,
   "id": "fd16a4a6",
   "metadata": {},
   "outputs": [
    {
     "data": {
      "text/plain": [
       "(OctreeColorLeafNode with color [0, 0, 0],\n",
       " OctreeNodeInfo with origin [30.0938, 25.0781, 0], size 2.50781, depth 6, child_index 0)"
      ]
     },
     "execution_count": 46,
     "metadata": {},
     "output_type": "execute_result"
    }
   ],
   "source": [
    "octree.locate_leaf_node(np.array([ 31.5,  26.5,   0. ]))"
   ]
  },
  {
   "cell_type": "code",
   "execution_count": 47,
   "id": "803d39ab",
   "metadata": {
    "scrolled": true
   },
   "outputs": [
    {
     "name": "stdout",
     "output_type": "stream",
     "text": [
      "\u001b[1;33m[Open3D WARNING] GLFW Error: Cocoa: Failed to find service port for display\u001b[0;m\n",
      "\u001b[1;33m[Open3D WARNING] GLFW Error: Cocoa: Failed to find service port for display\u001b[0;m\n"
     ]
    }
   ],
   "source": [
    "visualisation([octree])"
   ]
  },
  {
   "cell_type": "code",
   "execution_count": 48,
   "id": "bfed4e8d",
   "metadata": {},
   "outputs": [
    {
     "name": "stdout",
     "output_type": "stream",
     "text": [
      "\u001b[1;33m[Open3D WARNING] GLFW Error: Cocoa: Failed to find service port for display\u001b[0;m\n",
      "\u001b[1;33m[Open3D WARNING] GLFW Error: Cocoa: Failed to find service port for display\u001b[0;m\n"
     ]
    }
   ],
   "source": [
    "points = coord_voxel(voxel_grid1)\n",
    "pcd = o3d.geometry.PointCloud()\n",
    "pcd.points = o3d.utility.Vector3dVector(points)\n",
    "\n",
    "max_depth= np.floor(np.log(pcd.get_max_bound().max())/np.log(2)).astype(int)\n",
    "\n",
    "octree = o3d.geometry.Octree(max_depth)\n",
    "octree.convert_from_point_cloud(pcd)\n",
    "visualisation([octree])"
   ]
  },
  {
   "cell_type": "code",
   "execution_count": 49,
   "id": "820752bf",
   "metadata": {},
   "outputs": [
    {
     "data": {
      "text/plain": [
       "array([ 59.6,  59.6, 161.6])"
      ]
     },
     "execution_count": 49,
     "metadata": {},
     "output_type": "execute_result"
    }
   ],
   "source": [
    "octree.get_center()"
   ]
  },
  {
   "cell_type": "code",
   "execution_count": 50,
   "id": "a63e287e",
   "metadata": {},
   "outputs": [],
   "source": [
    "dictionnaire={}\n",
    "dic(octree,dictionnaire)"
   ]
  },
  {
   "cell_type": "code",
   "execution_count": 53,
   "id": "d43f731d",
   "metadata": {},
   "outputs": [
    {
     "data": {
      "text/plain": [
       "{'infos': (0, array([-102., -102.,    0.]), 323.2),\n",
       " 'enfants': [(1, (-102.0, -102.0, 0.0)),\n",
       "  (1, (59.599999999999994, -102.0, 0.0)),\n",
       "  (1, (-102.0, 59.599999999999994, 0.0)),\n",
       "  (1, (59.599999999999994, 59.599999999999994, 0.0)),\n",
       "  (1, (-102.0, -102.0, 161.6)),\n",
       "  (1, (59.599999999999994, -102.0, 161.6)),\n",
       "  (1, (-102.0, 59.599999999999994, 161.6)),\n",
       "  (1, (59.599999999999994, 59.599999999999994, 161.6))]}"
      ]
     },
     "execution_count": 53,
     "metadata": {},
     "output_type": "execute_result"
    }
   ],
   "source": [
    "dictionnaire[(0,(-102.0, -102.0, 0.0))]"
   ]
  },
  {
   "cell_type": "markdown",
   "id": "7636b4a5",
   "metadata": {},
   "source": [
    "# Collision octrees"
   ]
  },
  {
   "cell_type": "markdown",
   "id": "78be60b9",
   "metadata": {},
   "source": [
    "- exemple 1 : 3 collisions"
   ]
  },
  {
   "cell_type": "code",
   "execution_count": 60,
   "id": "a8025684",
   "metadata": {},
   "outputs": [],
   "source": [
    "# Création d'un nuage de points simple pour l'octree1\n",
    "points1 = np.array([\n",
    "    [0, 0, 0],\n",
    "    [0, 0, 1],\n",
    "    [0, 1, 0],\n",
    "    [1, 0, 0]\n",
    "], dtype=np.float64)\n",
    "\n",
    "pcd1 = o3d.geometry.PointCloud()\n",
    "pcd1.points = o3d.utility.Vector3dVector(points1)\n",
    "pcd1.colors = o3d.utility.Vector3dVector(np.full((len(points1), 3), [0, 0, 0]))\n",
    "\n",
    "# Création d'un nuage de points simple pour l'octree2\n",
    "points2 = np.array([\n",
    "    [0.5, 0.5, 0.5],\n",
    "    [1, 1, 1],\n",
    "    [0, 0, 1.5],\n",
    "    [1, 1, 0]\n",
    "], dtype=np.float64)\n",
    "\n",
    "pcd2 = o3d.geometry.PointCloud()\n",
    "pcd2.points = o3d.utility.Vector3dVector(points2)\n",
    "pcd1.colors = o3d.utility.Vector3dVector(np.full((len(points2), 3), [1, 0, 0]))\n",
    "\n",
    "# Construction des octrees à partir des nuages de points\n",
    "voxel_size = 0.5\n",
    "octree1 = o3d.geometry.Octree(2)  # max_depth = 2\n",
    "octree1.convert_from_point_cloud(pcd1, voxel_size)\n",
    "\n",
    "octree2 = o3d.geometry.Octree(2)  # max_depth = 2\n",
    "octree2.convert_from_point_cloud(pcd2, voxel_size)"
   ]
  },
  {
   "cell_type": "code",
   "execution_count": 61,
   "id": "e01b14c7",
   "metadata": {
    "scrolled": true
   },
   "outputs": [
    {
     "name": "stdout",
     "output_type": "stream",
     "text": [
      "\u001b[1;33m[Open3D WARNING] GLFW Error: Cocoa: Failed to find service port for display\u001b[0;m\n",
      "\u001b[1;33m[Open3D WARNING] GLFW Error: Cocoa: Failed to find service port for display\u001b[0;m\n"
     ]
    }
   ],
   "source": [
    "visualisation([octree1 , octree2])"
   ]
  },
  {
   "cell_type": "code",
   "execution_count": 73,
   "id": "b150d6e3",
   "metadata": {},
   "outputs": [
    {
     "data": {
      "text/plain": [
       "3"
      ]
     },
     "execution_count": 73,
     "metadata": {},
     "output_type": "execute_result"
    }
   ],
   "source": [
    "collision  = collision_octree_non_dic(octree1, octree2)\n",
    "len(collision)"
   ]
  },
  {
   "cell_type": "markdown",
   "id": "2a1d4787",
   "metadata": {},
   "source": [
    "# Rotation"
   ]
  },
  {
   "cell_type": "code",
   "execution_count": 67,
   "id": "7d2dd918",
   "metadata": {},
   "outputs": [
    {
     "name": "stdout",
     "output_type": "stream",
     "text": [
      "\u001b[1;33m[Open3D WARNING] GLFW Error: Cocoa: Failed to find service port for display\u001b[0;m\n",
      "\u001b[1;33m[Open3D WARNING] GLFW Error: Cocoa: Failed to find service port for display\u001b[0;m\n"
     ]
    }
   ],
   "source": [
    "tool = o3d.io.read_triangle_mesh('../Object/Deposition Head.stl')\n",
    "theta, phi = np.deg2rad(45) , np.deg2rad(45)\n",
    "tool_r = rotation(tool , theta, phi )\n",
    "\n",
    "visualisation([tool,tool_r])"
   ]
  },
  {
   "cell_type": "code",
   "execution_count": 68,
   "id": "c2efde46",
   "metadata": {},
   "outputs": [],
   "source": [
    "voxel_size, number_of_points = 0.5 , 1000000\n",
    "tool_voxel = Voxelize(tool , voxel_size , number_of_points)\n",
    "tool_r_voxel = Voxelize(tool_r , voxel_size , number_of_points)\n",
    "\n",
    "tool_voxel_coord = coord_voxel(tool_voxel)\n",
    "tool_r_voxel_coord = coord_voxel(tool_r_voxel)"
   ]
  },
  {
   "cell_type": "markdown",
   "id": "8730e0d1",
   "metadata": {},
   "source": [
    "# Visualisation"
   ]
  },
  {
   "cell_type": "code",
   "execution_count": 74,
   "id": "4f945d97",
   "metadata": {},
   "outputs": [],
   "source": [
    "def visualisation(see_what : list):\n",
    "    create_coordinate_frame = o3d.geometry.TriangleMesh.create_coordinate_frame(size=1, origin=[0, 0, 0])\n",
    "    see_what.append(create_coordinate_frame)\n",
    "    o3d.visualization.draw_geometries(see_what, mesh_show_wireframe=False )"
   ]
  },
  {
   "cell_type": "code",
   "execution_count": 85,
   "id": "5bee3445",
   "metadata": {},
   "outputs": [
    {
     "ename": "NameError",
     "evalue": "name 'world_coord' is not defined",
     "output_type": "error",
     "traceback": [
      "\u001b[0;31m---------------------------------------------------------------------------\u001b[0m",
      "\u001b[0;31mNameError\u001b[0m                                 Traceback (most recent call last)",
      "Cell \u001b[0;32mIn[85], line 20\u001b[0m\n\u001b[1;32m     16\u001b[0m         voxel_r_voxel_coord \u001b[38;5;241m=\u001b[39m tool_r_voxel\u001b[38;5;241m.\u001b[39morigin \u001b[38;5;241m+\u001b[39m tool_r_voxel\u001b[38;5;241m.\u001b[39mvoxel_size \u001b[38;5;241m*\u001b[39m voxel_r_voxel_coord\n\u001b[1;32m     19\u001b[0m         pcd \u001b[38;5;241m=\u001b[39m o3d\u001b[38;5;241m.\u001b[39mgeometry\u001b[38;5;241m.\u001b[39mPointCloud()\n\u001b[0;32m---> 20\u001b[0m         pcd\u001b[38;5;241m.\u001b[39mpoints \u001b[38;5;241m=\u001b[39m o3d\u001b[38;5;241m.\u001b[39mutility\u001b[38;5;241m.\u001b[39mVector3dVector(\u001b[43mworld_coord\u001b[49m)\n\u001b[1;32m     21\u001b[0m visualisation(tool_list)\n",
      "\u001b[0;31mNameError\u001b[0m: name 'world_coord' is not defined"
     ]
    }
   ],
   "source": [
    "tool = o3d.io.read_triangle_mesh('../Object/Deposition Head.stl')\n",
    "tool_r_list=[] #ok\n",
    "tool_r_voxel_list=[] #ok\n",
    "tool_r_voxel_coord_list=[]\n",
    "tool_r_voxel_coord_change_list=[] #ok\n",
    "voxel_size=0.5\n",
    "number_of_points=100000\n",
    "for j in Circle:\n",
    "    for ind, delta in enumerate((Circle[j])):\n",
    "        tool_r = rotation(tool,delta ,j*np.deg2rad(theta)) #tool_path[0]+np.array([0,0,6])\n",
    "        \n",
    "        tool_r_voxel = Voxelize(tool_r , voxel_size , number_of_points)\n",
    "        \n",
    "        voxel_r_voxel_coord= coord_voxel(tool_r_voxel)\n",
    "        \n",
    "        voxel_r_voxel_coord = tool_r_voxel.origin + tool_r_voxel.voxel_size * voxel_r_voxel_coord\n",
    "\n",
    "        \n",
    "        pcd = o3d.geometry.PointCloud()\n",
    "        pcd.points = o3d.utility.Vector3dVector(world_coord)\n",
    "visualisation(tool_list)"
   ]
  },
  {
   "cell_type": "code",
   "execution_count": 79,
   "id": "4ab61152",
   "metadata": {},
   "outputs": [],
   "source": [
    "tool_r_voxel_coord_change_pcd_list=[]\n",
    "for ele in tool_r_voxel_coord_change_list : \n",
    "    pcd = o3d.geometry.PointCloud()\n",
    "    pcd.points = o3d.utility.Vector3dVector(ele)\n",
    "    tool_r_voxel_coord_change_pcd_list.append(pcd)"
   ]
  },
  {
   "cell_type": "code",
   "execution_count": 80,
   "id": "81dc3da4",
   "metadata": {},
   "outputs": [
    {
     "name": "stdout",
     "output_type": "stream",
     "text": [
      "\u001b[1;33m[Open3D WARNING] GLFW Error: Cocoa: Failed to find service port for display\u001b[0;m\n",
      "\u001b[1;33m[Open3D WARNING] GLFW Error: Cocoa: Failed to find service port for display\u001b[0;m\n"
     ]
    }
   ],
   "source": [
    "visualisation(tool_r_voxel_coord_change_pcd_list+tool_r_list)"
   ]
  },
  {
   "cell_type": "code",
   "execution_count": 81,
   "id": "ce3dc58d",
   "metadata": {},
   "outputs": [],
   "source": [
    "tool = o3d.io.read_triangle_mesh('../Object/Deposition Head.stl')\n",
    "\n"
   ]
  },
  {
   "cell_type": "code",
   "execution_count": 82,
   "id": "89f2cc18",
   "metadata": {},
   "outputs": [
    {
     "data": {
      "text/plain": [
       "array([-21.6559425 , -30.32660979,  -0.26396456])"
      ]
     },
     "execution_count": 82,
     "metadata": {},
     "output_type": "execute_result"
    }
   ],
   "source": [
    "tool_r.get_min_bound()"
   ]
  },
  {
   "cell_type": "code",
   "execution_count": 83,
   "id": "2f69e775",
   "metadata": {},
   "outputs": [
    {
     "name": "stdout",
     "output_type": "stream",
     "text": [
      "\u001b[1;33m[Open3D WARNING] GLFW Error: Cocoa: Failed to find service port for display\u001b[0;m\n",
      "\u001b[1;33m[Open3D WARNING] GLFW Error: Cocoa: Failed to find service port for display\u001b[0;m\n"
     ]
    }
   ],
   "source": [
    "visualisation([tool,tool_r])"
   ]
  }
 ],
 "metadata": {
  "kernelspec": {
   "display_name": "Python 3 (ipykernel)",
   "language": "python",
   "name": "python3"
  },
  "language_info": {
   "codemirror_mode": {
    "name": "ipython",
    "version": 3
   },
   "file_extension": ".py",
   "mimetype": "text/x-python",
   "name": "python",
   "nbconvert_exporter": "python",
   "pygments_lexer": "ipython3",
   "version": "3.10.10"
  }
 },
 "nbformat": 4,
 "nbformat_minor": 5
}
