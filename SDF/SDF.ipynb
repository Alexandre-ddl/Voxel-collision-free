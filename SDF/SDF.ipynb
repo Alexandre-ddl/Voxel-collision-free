{
 "cells": [
  {
   "cell_type": "code",
   "execution_count": 379,
   "id": "21c81d5f",
   "metadata": {},
   "outputs": [],
   "source": [
    "import numpy as np\n",
    "import trimesh\n",
    "import torch\n",
    "import torch.nn as nn\n",
    "from torch.utils.data import Dataset, DataLoader\n",
    "from tqdm import tqdm\n",
    "import matplotlib.pyplot as plt\n"
   ]
  },
  {
   "cell_type": "code",
   "execution_count": 380,
   "id": "a17241fd",
   "metadata": {},
   "outputs": [],
   "source": [
    "mesh = trimesh.load_mesh('Object/Deposition Head.stl')"
   ]
  },
  {
   "cell_type": "code",
   "execution_count": 381,
   "id": "5882655f",
   "metadata": {},
   "outputs": [],
   "source": [
    "points = 1000 \n",
    "scale_voxel = 0.5\n",
    "Dim_Latent_value = 16"
   ]
  },
  {
   "cell_type": "code",
   "execution_count": 382,
   "id": "5a7d5994",
   "metadata": {},
   "outputs": [
    {
     "data": {
      "text/plain": [
       "<trimesh.Trimesh(vertices.shape=(725, 3), faces.shape=(1446, 3))>"
      ]
     },
     "execution_count": 382,
     "metadata": {},
     "output_type": "execute_result"
    }
   ],
   "source": [
    "mesh.apply_translation(-mesh.bounds[0])"
   ]
  },
  {
   "cell_type": "code",
   "execution_count": 383,
   "id": "b218d104",
   "metadata": {},
   "outputs": [],
   "source": [
    "random_points = np.random.uniform(mesh.bounds[0], mesh.bounds[1] , (points , 3) )"
   ]
  },
  {
   "cell_type": "code",
   "execution_count": 384,
   "id": "1a0030be",
   "metadata": {},
   "outputs": [
    {
     "data": {
      "text/plain": [
       "(1000,)"
      ]
     },
     "execution_count": 384,
     "metadata": {},
     "output_type": "execute_result"
    }
   ],
   "source": [
    "sdf = trimesh.proximity.signed_distance(mesh, random_points)\n",
    "sdf.shape"
   ]
  },
  {
   "cell_type": "code",
   "execution_count": 385,
   "id": "15fea676",
   "metadata": {},
   "outputs": [],
   "source": [
    "voxel_shape =np.append((np.round(mesh.bounds[1])/scale_voxel).astype(int), Dim_Latent_value )"
   ]
  },
  {
   "cell_type": "code",
   "execution_count": 386,
   "id": "8e424142",
   "metadata": {},
   "outputs": [],
   "source": [
    "random_points  = np.divide(random_points,scale_voxel)\n",
    "random_points_voxel = np.floor(random_points).astype(int)\n",
    "delta = random_points - random_points_voxel"
   ]
  },
  {
   "cell_type": "code",
   "execution_count": 387,
   "id": "dcd61d41",
   "metadata": {},
   "outputs": [],
   "source": [
    "ind = int(points*0.8)\n",
    "\n",
    "train_Ti = torch.from_numpy(delta[:ind]).float()\n",
    "train_sdf = torch.tensor(sdf[:ind]).float()\n",
    "\n",
    "test_Ti = torch.from_numpy(delta[ind-1:]).float()\n",
    "test_sdf= torch.tensor(sdf[ind-1:]).float()\n"
   ]
  },
  {
   "cell_type": "code",
   "execution_count": 388,
   "id": "7dd7f3fb",
   "metadata": {},
   "outputs": [],
   "source": [
    "class DeepLS(nn.Module):\n",
    "    \n",
    "    def __init__(self, Dim_intern , Dim_atent , voxel_shape, device='cpu'):\n",
    "        super(DeepLS,self).__init__()\n",
    "        \n",
    "        self.block= nn.Sequential( nn.Linear(3 + Dim_atent,Dim_intern), nn.ReLU(),\n",
    "                                   nn.Linear(Dim_intern,Dim_intern), nn.ReLU(),\n",
    "                                   nn.Linear(Dim_intern,Dim_intern),nn.ReLU() ,\n",
    "                                     nn.Linear(Dim_intern,Dim_intern),nn.ReLU(),\n",
    "                                    nn.Linear(Dim_intern,1))\n",
    "        \n",
    "        self.latente= torch.randn(tuple(voxel_shape),device=device, requires_grad=True)\n",
    "        \n",
    "    def forward(self,latente_value , coord ):\n",
    "        X = torch.cat((latente_value, coord ) , dim = -1).float() #ou double()\n",
    "        \n",
    "        return  self.block(X)"
   ]
  },
  {
   "cell_type": "code",
   "execution_count": 389,
   "id": "9bf1790d",
   "metadata": {},
   "outputs": [],
   "source": [
    "def train(model, optimizer, scheduler, train_Ti ,random_points_voxel ,train_sdf, nb_epochs, nb_bins=nb_bins, device ='cpu'):\n",
    "    \n",
    "    criterion = nn.MSELoss()\n",
    "\n",
    "    training_loss = []\n",
    "    for epoch in tqdm(range(nb_epochs)):\n",
    "        Outputs = []\n",
    "        for ind, batch in enumerate(train_Ti):\n",
    "        \n",
    "            coords = batch.to(device)\n",
    "            latent_values = model.latente[random_points_voxel[ind,0],random_points_voxel[ind,1],random_points_voxel[ind,2]].to(device)\n",
    "\n",
    "\n",
    "            Outputs.append(model(latent_values, coords))\n",
    "        Outputs= torch.stack(Outputs)  \n",
    "        target_values = train_sdf.to(device)   \n",
    "        # Calculer la perte\n",
    "        loss = ((Outputs - target_values)**2).mean()\n",
    "\n",
    "        # Mettre à jour les poids du modèle\n",
    "        optimizer.zero_grad()\n",
    "        loss.backward()\n",
    "        optimizer.step()\n",
    "\n",
    "        # Stocker la perte pour ce batch\n",
    "        training_loss.append(loss.item())\n",
    "                   \n",
    "        scheduler.step()\n",
    "    \n",
    "\n",
    "    return training_loss\n",
    "\n"
   ]
  },
  {
   "cell_type": "code",
   "execution_count": 390,
   "id": "425ea407",
   "metadata": {},
   "outputs": [
    {
     "name": "stderr",
     "output_type": "stream",
     "text": [
      "100%|███████████████████████████████████████████| 75/75 [30:32<00:00, 24.43s/it]\n"
     ]
    }
   ],
   "source": [
    "# Hyperparameters\n",
    "nb_epochs = 75\n",
    "lr = 1e-3\n",
    "gamma = 0.5\n",
    "nb_bins = 192\n",
    "gamma = 0.5\n",
    "\n",
    "model = DeepLS(64 ,Dim_Latent_value ,voxel_shape)\n",
    "optimizer = torch.optim.Adam(model.parameters(), lr=lr)\n",
    "scheduler = torch.optim.lr_scheduler.MultiStepLR(optimizer, milestones=[7], gamma=gamma)\n",
    "\n",
    "\n",
    "loos = train(model, optimizer, scheduler, train_Ti ,random_points_voxel ,train_sdf, nb_epochs, nb_bins=nb_bins)"
   ]
  },
  {
   "cell_type": "code",
   "execution_count": 391,
   "id": "cf85d4e0",
   "metadata": {},
   "outputs": [
    {
     "data": {
      "text/plain": [
       "[<matplotlib.lines.Line2D at 0x14998a6e0>]"
      ]
     },
     "execution_count": 391,
     "metadata": {},
     "output_type": "execute_result"
    },
    {
     "data": {
      "image/png": "[encoded data removed]",
      "text/plain": [
       "<Figure size 640x480 with 1 Axes>"
      ]
     },
     "metadata": {},
     "output_type": "display_data"
    }
   ],
   "source": [
    "plt.plot(loos)"
   ]
  },
  {
   "cell_type": "code",
   "execution_count": 361,
   "id": "3b60c37a",
   "metadata": {},
   "outputs": [
    {
     "name": "stderr",
     "output_type": "stream",
     "text": [
      "100%|████████████████████████████████████████| 200/200 [00:01<00:00, 101.30it/s]\n"
     ]
    }
   ],
   "source": [
    "loos = train(model, optimizer, scheduler, test_Ti ,random_points_voxel ,test_sdf, nb_epochs, nb_bins=nb_bins)"
   ]
  },
  {
   "cell_type": "code",
   "execution_count": 363,
   "id": "8d83b598",
   "metadata": {},
   "outputs": [
    {
     "data": {
      "text/plain": [
       "[<matplotlib.lines.Line2D at 0x149b804f0>]"
      ]
     },
     "execution_count": 363,
     "metadata": {},
     "output_type": "execute_result"
    },
    {
     "data": {
      "image/png": "[encoded data removed]",
      "text/plain": [
       "<Figure size 640x480 with 1 Axes>"
      ]
     },
     "metadata": {},
     "output_type": "display_data"
    }
   ],
   "source": [
    "plt.plot(loos)"
   ]
  },
  {
   "cell_type": "code",
   "execution_count": null,
   "id": "a511e52a",
   "metadata": {},
   "outputs": [],
   "source": [
    "latent_values = model.latente[random_points_voxel[ind,0],random_points_voxel[ind,1],random_points_voxel[ind,2]].to(device)"
   ]
  }
 ],
 "metadata": {
  "kernelspec": {
   "display_name": "Python 3 (ipykernel)",
   "language": "python",
   "name": "python3"
  },
  "language_info": {
   "codemirror_mode": {
    "name": "ipython",
    "version": 3
   },
   "file_extension": ".py",
   "mimetype": "text/x-python",
   "name": "python",
   "nbconvert_exporter": "python",
   "pygments_lexer": "ipython3",
   "version": "3.10.10"
  }
 },
 "nbformat": 4,
 "nbformat_minor": 5
}
