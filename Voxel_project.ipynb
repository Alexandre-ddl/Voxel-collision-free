{
 "cells": [
  {
   "cell_type": "code",
   "execution_count": 1,
   "metadata": {},
   "outputs": [],
   "source": [
    "import pyvista as pv\n",
    "import numpy as np\n",
    "import math  \n",
    "import trame\n",
    "import networkx as nx\n",
    "\n",
    "from tqdm import tqdm\n",
    "from Voxel_model import Voxels\n",
    "from Path_create import Create_Path\n",
    "from creation_vector import Vector_Creation\n",
    "from mesh_tools import centrer_0xy , rotation_mesh , midle_xy\n",
    "\n",
    "# import trimesh\n",
    "# import pyvox\n",
    "# import pyvoxsurf"
   ]
  },
  {
   "cell_type": "code",
   "execution_count": null,
   "metadata": {},
   "outputs": [],
   "source": [
    "path = Create_Path('Object\\\\UM3E_Copy of Cube Extruder (3).gcode')\n",
    "path.read_gcode(12)\n",
    "\n",
    "collision = Create_Path('Object\\\\UM3E_collision.gcode')\n",
    "collision.read_gcode(11)\n",
    "\n",
    "path.centrer(collision.tool_path)\n",
    "\n",
    "mesh_collision = centrer_0xy('Object\\collision.stl')\n",
    "\n",
    "path.figure(mesh_collision)"
   ]
  },
  {
   "attachments": {},
   "cell_type": "markdown",
   "metadata": {},
   "source": [
    "# Free Path"
   ]
  },
  {
   "cell_type": "code",
   "execution_count": 58,
   "metadata": {},
   "outputs": [
    {
     "ename": "MemoryError",
     "evalue": "Unable to allocate 2.34 GiB for an array with shape (680, 680, 680) and data type float64",
     "output_type": "error",
     "traceback": [
      "\u001b[1;31m---------------------------------------------------------------------------\u001b[0m",
      "\u001b[1;31mMemoryError\u001b[0m                               Traceback (most recent call last)",
      "Cell \u001b[1;32mIn[58], line 3\u001b[0m\n\u001b[0;32m      1\u001b[0m scale_voxel \u001b[39m=\u001b[39m \u001b[39m0.5\u001b[39m\n\u001b[0;32m      2\u001b[0m scale_print\u001b[39m=\u001b[39m \u001b[39m340\u001b[39m\n\u001b[1;32m----> 3\u001b[0m vox \u001b[39m=\u001b[39m Voxels(scale_print,scale_voxel)\n",
      "File \u001b[1;32mc:\\Users\\sdesg\\Documents\\Voxel_py310\\Voxel_model.py:14\u001b[0m, in \u001b[0;36mVoxels.__init__\u001b[1;34m(self, scale_print, scale_voxel)\u001b[0m\n\u001b[0;32m     10\u001b[0m \u001b[39mself\u001b[39m\u001b[39m.\u001b[39mscale_voxel \u001b[39m=\u001b[39m scale_voxel\n\u001b[0;32m     12\u001b[0m \u001b[39mself\u001b[39m\u001b[39m.\u001b[39mnb_voxels \u001b[39m=\u001b[39m math\u001b[39m.\u001b[39mceil(scale_print\u001b[39m/\u001b[39mscale_voxel)\n\u001b[1;32m---> 14\u001b[0m \u001b[39mself\u001b[39m\u001b[39m.\u001b[39mvoxels \u001b[39m=\u001b[39m np\u001b[39m.\u001b[39;49mzeros((\u001b[39mself\u001b[39;49m\u001b[39m.\u001b[39;49mnb_voxels,\u001b[39mself\u001b[39;49m\u001b[39m.\u001b[39;49mnb_voxels,\u001b[39mself\u001b[39;49m\u001b[39m.\u001b[39;49mnb_voxels))\n\u001b[0;32m     16\u001b[0m \u001b[39mself\u001b[39m\u001b[39m.\u001b[39mmidle \u001b[39m=\u001b[39m (np\u001b[39m.\u001b[39marray([\u001b[39m1.\u001b[39m,\u001b[39m1.\u001b[39m,\u001b[39m0.\u001b[39m])\u001b[39m*\u001b[39m\u001b[39mself\u001b[39m\u001b[39m.\u001b[39mnb_voxels\u001b[39m/\u001b[39m\u001b[39m2\u001b[39m)\u001b[39m.\u001b[39mastype(\u001b[39mint\u001b[39m)\n",
      "\u001b[1;31mMemoryError\u001b[0m: Unable to allocate 2.34 GiB for an array with shape (680, 680, 680) and data type float64"
     ]
    }
   ],
   "source": [
    "scale_voxel = 0.5\n",
    "scale_print= 340\n",
    "vox = Voxels(scale_print,scale_voxel)"
   ]
  },
  {
   "cell_type": "code",
   "execution_count": 24,
   "metadata": {},
   "outputs": [],
   "source": [
    "voxels_collision = pv.voxelize(mesh_collision, density=scale_voxel, check_surface=False)\n",
    "voxels_collision.points = np.divide(voxels_collision.points,scale_voxel).astype(int)\n",
    "mesh_collision.points = np.divide(mesh_collision.points,scale_voxel).astype(int)"
   ]
  },
  {
   "cell_type": "code",
   "execution_count": 53,
   "metadata": {},
   "outputs": [
    {
     "name": "stderr",
     "output_type": "stream",
     "text": [
      "c:\\Users\\sdesg\\Documents\\Voxel_py310\\myenv\\lib\\site-packages\\pyvista\\utilities\\helpers.py:507: UserWarning: Points is not a float type. This can cause issues when transforming or applying filters. Casting to ``np.float32``. Disable this by passing ``force_float=False``.\n",
      "  warnings.warn(\n"
     ]
    },
    {
     "data": {
      "application/vnd.jupyter.widget-view+json": {
       "model_id": "663aef4763e949bab459d15772aedf8b",
       "version_major": 2,
       "version_minor": 0
      },
      "text/plain": [
       "Widget(value=\"<iframe src='http://localhost:49573/index.html?ui=P_0x18539f59e70_12&reconnect=auto' style='widt…"
      ]
     },
     "metadata": {},
     "output_type": "display_data"
    }
   ],
   "source": [
    "centre = midle_xy(voxels_collision)\n",
    "voxels_collision.points = vox.translation(voxels_collision.points,centre,vox.midle)\n",
    "mesh_collision.points = vox.translation(mesh_collision.points,centre,vox.midle)\n",
    "\n",
    "path.correction(vox.scale_voxel)\n",
    "path.translat(centre,vox.midle)\n",
    "path.figure(mesh_collision)"
   ]
  },
  {
   "cell_type": "code",
   "execution_count": 26,
   "metadata": {},
   "outputs": [],
   "source": [
    "mesh_head_print=  pv.read('Object\\Deposition Head.stl')\n",
    "voxels_head_print = pv.voxelize(mesh_head_print, density=scale_voxel, check_surface=False)\n",
    "voxels_head_print.points = np.divide(voxels_head_print.points,vox.scale_voxel).astype(int)\n",
    "mesh_head_print.points = np.divide(mesh_head_print.points,vox.scale_voxel).astype(int)"
   ]
  },
  {
   "cell_type": "code",
   "execution_count": null,
   "metadata": {},
   "outputs": [],
   "source": [
    "voxels_head_print = voxels_head_print.extract_surface()\n",
    "voxels_head_print.points[:,2]+=6"
   ]
  },
  {
   "cell_type": "code",
   "execution_count": 34,
   "metadata": {},
   "outputs": [],
   "source": [
    "vox.add_density(voxels_collision.points)"
   ]
  },
  {
   "cell_type": "code",
   "execution_count": 49,
   "metadata": {},
   "outputs": [],
   "source": [
    "theta , theta_max = 20 , 80\n",
    "Circle=Vector_Creation(np.deg2rad(theta),np.deg2rad(theta_max))\n",
    "\n",
    "position_head_layer_circle = {i: [] for i in Circle }\n",
    "G = nx.DiGraph()\n",
    "tool_path = path.tool_path[5000:5100]\n",
    "num_layers = len(tool_path)\n",
    "layer_vertex = {i: [] for i in range(num_layers)}"
   ]
  },
  {
   "cell_type": "code",
   "execution_count": 51,
   "metadata": {},
   "outputs": [
    {
     "name": "stderr",
     "output_type": "stream",
     "text": [
      "  4%|▍         | 4/100 [00:27<10:53,  6.81s/it]\n"
     ]
    },
    {
     "ename": "IndexError",
     "evalue": "index 680 is out of bounds for axis 0 with size 680",
     "output_type": "error",
     "traceback": [
      "\u001b[1;31m---------------------------------------------------------------------------\u001b[0m",
      "\u001b[1;31mIndexError\u001b[0m                                Traceback (most recent call last)",
      "Cell \u001b[1;32mIn[51], line 1\u001b[0m\n\u001b[1;32m----> 1\u001b[0m free_path\u001b[39m=\u001b[39m free_path(vox, tool_path, voxels_head_print, theta , position_head_layer_circle,Circle, G, layer_vertex )\n",
      "Cell \u001b[1;32mIn[50], line 26\u001b[0m, in \u001b[0;36mfree_path\u001b[1;34m(vox, tool_path, surface, theta, position_head_layer_circle, Circle, G, layer_vertex)\u001b[0m\n\u001b[0;32m     23\u001b[0m     position_rotate \u001b[39m=\u001b[39m position_head_layer_circle[j][ind]\n\u001b[0;32m     24\u001b[0m     position \u001b[39m=\u001b[39m vox\u001b[39m.\u001b[39mtranslation(position_rotate,tool_path[i\u001b[39m-\u001b[39m\u001b[39m1\u001b[39m],tool_path[i])\n\u001b[1;32m---> 26\u001b[0m \u001b[39mif\u001b[39;00m \u001b[39mnot\u001b[39;00m vox\u001b[39m.\u001b[39;49mdensity(position): \u001b[39m# s'il n'y a pas de desnité (pas d'obstacle)\u001b[39;00m\n\u001b[0;32m     27\u001b[0m     current_vertex \u001b[39m=\u001b[39m (i, j , ind)  \u001b[39m#  name of the vertex\u001b[39;00m\n\u001b[0;32m     28\u001b[0m     G\u001b[39m.\u001b[39madd_node(current_vertex, angle_z\u001b[39m=\u001b[39mj\u001b[39m*\u001b[39mtheta) \u001b[39m# creer le sommet white atribute \u001b[39;00m\n",
      "File \u001b[1;32mc:\\Users\\sdesg\\Documents\\Voxel_py310\\Voxel_model.py:42\u001b[0m, in \u001b[0;36mVoxels.density\u001b[1;34m(self, coord)\u001b[0m\n\u001b[0;32m     41\u001b[0m \u001b[39mdef\u001b[39;00m \u001b[39mdensity\u001b[39m(\u001b[39mself\u001b[39m, coord):\n\u001b[1;32m---> 42\u001b[0m     density_bool \u001b[39m=\u001b[39m \u001b[39mself\u001b[39;49m\u001b[39m.\u001b[39;49mvoxels[coord[:,\u001b[39m0\u001b[39;49m],coord[:,\u001b[39m1\u001b[39;49m],coord[:,\u001b[39m2\u001b[39;49m]]\u001b[39m==\u001b[39m\u001b[39m1\u001b[39m\n\u001b[0;32m     43\u001b[0m     \u001b[39mreturn\u001b[39;00m np\u001b[39m.\u001b[39many(density_bool)\n",
      "\u001b[1;31mIndexError\u001b[0m: index 680 is out of bounds for axis 0 with size 680"
     ]
    }
   ],
   "source": [
    "\n",
    "free_path= free_path(vox, tool_path, voxels_head_print, theta , position_head_layer_circle,Circle, G, layer_vertex )"
   ]
  },
  {
   "cell_type": "code",
   "execution_count": 50,
   "metadata": {},
   "outputs": [],
   "source": [
    "def free_path(vox, tool_path, surface, theta, position_head_layer_circle,Circle,G, layer_vertex ):\n",
    "        #   build_graph\n",
    "        source = 's'\n",
    "        target = 't'\n",
    "        \n",
    "        G.add_node(source)\n",
    "        G.add_node(target)\n",
    "        \n",
    "        for i in tqdm(range(num_layers)):\n",
    "            if i > 0:\n",
    "                prev_layer = i - 1    # Récupérez les sommets de l'étage précédent\n",
    "                prev_layer_vertices = layer_vertex[prev_layer]\n",
    "\n",
    "            for j in Circle:\n",
    "                for ind, delta in enumerate(np.rad2deg(Circle[j])):\n",
    "                    \n",
    "                    if i == 0 :\n",
    "                        position_rotate = rotation_mesh(surface, delta,j*theta) \n",
    "                        position_rotate = np.floor(position_rotate.points).astype(int)\n",
    "                        position_head_layer_circle[j].append(position_rotate)\n",
    "                        position = vox.translation(position_rotate,np.array([0,0,0]),tool_path[i])\n",
    "                    else :\n",
    "                        position_rotate = position_head_layer_circle[j][ind]\n",
    "                        position = vox.translation(position_rotate,tool_path[i-1],tool_path[i])\n",
    "                    \n",
    "                    if not vox.density(position): # s'il n'y a pas de desnité (pas d'obstacle)\n",
    "                        current_vertex = (i, j , ind)  #  name of the vertex\n",
    "                        G.add_node(current_vertex, angle_z=j*theta) # creer le sommet white atribute \n",
    "                        layer_vertex[i].append(current_vertex)  # Ajoute les sommets aux listes d'étages\n",
    "                        if i > 0:\n",
    "                            for prev_vertex in prev_layer_vertices: # creer des liaison entre les etages si la condition angulaire est respécté\n",
    "                                angle = abs(G.nodes[prev_vertex]['angle_z']-G.nodes[current_vertex]['angle_z'])\n",
    "                                if angle <= theta:\n",
    "                                    G.add_edge(prev_vertex, current_vertex, weight=angle)\n",
    "                        if i == 0:\n",
    "                            G.add_edge(source, current_vertex, weight=0)\n",
    "                        if i == num_layers-1:\n",
    "                            G.add_edge(current_vertex,target ,weight=0)\n",
    "                            \n",
    "            vox.voxels[tool_path[i][0],tool_path[i][1],tool_path[i][2]]=1\n",
    "\n",
    "\n",
    "        shortest_path = nx.dijkstra_path(G, source, target)\n",
    "        return shortest_path\n",
    "    \n",
    "\n",
    "    # elif methode == 2 :\n",
    "        \"\"\"\n",
    "        Dans cette methode pour chaque vecteur du cercle\n",
    "        ->je vais creer une un model voxel de le tete (rotation en mesh) -> plus précis\n",
    "        ->chaque model va etre testé pour chacune des position avec des translation\n",
    "        \"\"\"\n",
    "\n",
    "    # elif methode == 3 :\n",
    "        \"\"\"\n",
    "        ->je vais creer une un model voxel de le tete \n",
    "        ->pour chaque vecteur je vais effectuer une rotation (rotation en voxel) -> perte de précision\n",
    "        ->pour chaque vecteur va etre testé pour chacune des position avec des translation\n",
    "        \"\"\"\n",
    "            # if methode == 1 :  \n",
    "        \"\"\" \n",
    "        il faut que j'ajoute le vecteur ou s'effectue la rotation \n",
    "        Dans cette methode pour chaque points \n",
    "        je vais modifier la position de la tete pour chaque vecteur \n",
    "        et determiner si elle est valide ou non\n",
    "        \"\"\"\n",
    "\n",
    "\n",
    "    "
   ]
  },
  {
   "cell_type": "code",
   "execution_count": 18,
   "metadata": {},
   "outputs": [],
   "source": [
    "free_path=free_path[1:-1]"
   ]
  },
  {
   "cell_type": "code",
   "execution_count": 50,
   "metadata": {},
   "outputs": [
    {
     "data": {
      "text/plain": [
       "{'vector_xy': 94.03866030650033, 'angle_z': 40}"
      ]
     },
     "execution_count": 50,
     "metadata": {},
     "output_type": "execute_result"
    }
   ],
   "source": [
    "for ele in free_path:\n",
    "    G.nodes[ele]"
   ]
  },
  {
   "attachments": {},
   "cell_type": "markdown",
   "metadata": {},
   "source": [
    "# Create video"
   ]
  },
  {
   "cell_type": "code",
   "execution_count": 19,
   "metadata": {},
   "outputs": [],
   "source": [
    "import imageio\n",
    "\n",
    "def create_images(free_path):\n",
    "    p = pv.Plotter(off_screen=True)\n",
    "    images = []\n",
    "\n",
    "    for ele in tqdm(free_path):\n",
    "        p.clear()\n",
    "        position_rotate = rotation_mesh(surface, G.nodes[ele]['vector_xy'],  G.nodes[ele]['angle_z'])\n",
    "        position_rotate = position_rotate.translate(tool_path[ele[0] + 5000])\n",
    "        p.add_mesh(position_rotate, color='blue')\n",
    "        p.add_mesh(surface_collision, color=True, show_edges=True, opacity=0.7)\n",
    "        img = p.show(screenshot=True, window_size=[800, 600], return_img=True , auto_close=True)  \n",
    "        images.append(img)\n",
    "\n",
    "    return images\n"
   ]
  },
  {
   "cell_type": "code",
   "execution_count": null,
   "metadata": {},
   "outputs": [],
   "source": [
    "free_path_images = create_images(free_path)"
   ]
  },
  {
   "cell_type": "code",
   "execution_count": 21,
   "metadata": {},
   "outputs": [
    {
     "name": "stderr",
     "output_type": "stream",
     "text": [
      "WARNING:imageio_ffmpeg:IMAGEIO FFMPEG_WRITER WARNING: input image is not divisible by macro_block_size=16, resizing from (800, 600) to (800, 608) to ensure video compatibility with most codecs and players. To prevent resizing, make your input image divisible by the macro_block_size or set the macro_block_size to 1 (risking incompatibility).\n"
     ]
    }
   ],
   "source": [
    "\n",
    "def create_video(images, output_file, fps=30):\n",
    "    with imageio.get_writer(output_file, mode='I', fps=fps) as writer:\n",
    "        for img in images:\n",
    "            writer.append_data(img)\n",
    "\n",
    "\n",
    "create_video(free_path_images, \"animation.mp4\")\n",
    "\n"
   ]
  },
  {
   "cell_type": "code",
   "execution_count": null,
   "metadata": {},
   "outputs": [],
   "source": [
    "mesh = pv.read('Object\\Extruder.stl')\n",
    "mesh_scale = mesh.scale([0.25,0.25,0.25], inplace=False)"
   ]
  }
 ],
 "metadata": {
  "kernelspec": {
   "display_name": "myenv",
   "language": "python",
   "name": "python3"
  },
  "language_info": {
   "codemirror_mode": {
    "name": "ipython",
    "version": 3
   },
   "file_extension": ".py",
   "mimetype": "text/x-python",
   "name": "python",
   "nbconvert_exporter": "python",
   "pygments_lexer": "ipython3",
   "version": "3.10.11"
  },
  "orig_nbformat": 4
 },
 "nbformat": 4,
 "nbformat_minor": 2
}
