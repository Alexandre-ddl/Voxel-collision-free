{
 "cells": [
  {
   "cell_type": "code",
   "execution_count": 167,
   "metadata": {},
   "outputs": [],
   "source": [
    "import pyvista as pv\n",
    "import numpy as np\n",
    "import math  \n",
    "import trame\n",
    "\n",
    "# import trimesh\n",
    "# import pyvox"
   ]
  },
  {
   "attachments": {},
   "cell_type": "markdown",
   "metadata": {},
   "source": [
    "# From CAD to VOXEL"
   ]
  },
  {
   "cell_type": "code",
   "execution_count": 168,
   "metadata": {},
   "outputs": [
    {
     "data": {
      "text/plain": [
       "pyvista_ndarray([[ 7, 11,  0],\n",
       "                 [ 7, 12,  0],\n",
       "                 [ 7, 12,  1],\n",
       "                 ...,\n",
       "                 [19, 12, 25],\n",
       "                 [19, 13, 25],\n",
       "                 [19, 14, 25]])"
      ]
     },
     "execution_count": 168,
     "metadata": {},
     "output_type": "execute_result"
    }
   ],
   "source": [
    "Path = 'Object\\sphere.stl'\n",
    "mesh = pv.read(Path)\n",
    "\n",
    "x_min, x_max, y_min, y_max, z_min, z_max = mesh.bounds\n",
    "\n",
    "scale_print= max(x_max - x_min,y_max - y_min,z_max - z_min)\n",
    "# print(mesh.length)  diagonal\n",
    "scale_voxel=0.1\n",
    "\n",
    "voxels = pv.voxelize(mesh, density=scale_voxel, check_surface=False)\n",
    "\n",
    "surface = voxels.extract_surface()\n",
    "surface_points = surface.points\n",
    "surface_points -= np.array([x_min,y_min,z_min]) \n",
    "surface_points = np.divide(surface_points, scale_voxel).astype(int)\n",
    "surface_points"
   ]
  },
  {
   "attachments": {},
   "cell_type": "markdown",
   "metadata": {},
   "source": [
    "# VOXEL model"
   ]
  },
  {
   "cell_type": "code",
   "execution_count": 169,
   "metadata": {},
   "outputs": [],
   "source": [
    "class Voxels():\n",
    "    \n",
    "    def __init__(self, scale_print, scale_voxel):\n",
    "        \n",
    "        self.scale_print = scale_print\n",
    "        self.scale_voxel = scale_voxel\n",
    "\n",
    "        self.nb_voxels = math.ceil(scale_print/scale_voxel)\n",
    "        \n",
    "        self.voxels = np.zeros((self.nb_voxels,self.nb_voxels,self.nb_voxels))\n",
    "\n",
    "    def Voxelise_object(self,object):\n",
    "        Path = object\n",
    "        mesh = pv.read(Path)\n",
    "\n",
    "        x_min, x_max, y_min, y_max, z_min, z_max = mesh.bounds\n",
    "\n",
    "        voxels = pv.voxelize(mesh, density=self.scale_voxel, check_surface=False)\n",
    "\n",
    "        surface = voxels.extract_surface()\n",
    "        surface_points = surface.points\n",
    "        surface_points -= np.array([x_min,y_min,z_min]) \n",
    "        surface_points = np.divide(surface_points, scale_voxel).astype(int)\n",
    "        return surface_points\n",
    "\n",
    "    def add_density(self, coord):\n",
    "\n",
    "        self.voxels[coord[:,0],coord[:,1],coord[:,2]]=1\n",
    "\n",
    "    def substracted_density(self,coord):\n",
    "        \n",
    "        self.voxels[coord[:,0],coord[:,1],coord[:,2]]=0\n",
    "\n",
    "    def density(self, coord):\n",
    "        density_bool = self.voxels[coord[:,0],coord[:,1],coord[:,2]]==1\n",
    "        return not np.any(~density_bool)\n",
    "    \n",
    "\n",
    "    def move_object_translation(self, object, position_ini, position_fin, scale=True):  \n",
    "        # scale : In the good referential\n",
    "        object = object.astype(np.float64)\n",
    "        object += (position_fin - position_ini)*(self.scale_voxel*(1-scale)+scale)\n",
    "\n",
    "        if  not scale :          # correction move to be affected at the good voxel\n",
    "            return np.floor(object).astype(int)\n",
    "        return object.astype(int)\n",
    "    \n",
    "\n",
    "    def rotation(self, object, theta, phi):\n",
    "\n",
    "        z=np.array([0,0,1])\n",
    "        # Z -> x vers y\n",
    "        rot_theta = np.array([[np.cos(theta), -np.sin(theta), 0],\n",
    "                            [np.sin(theta), np.cos(theta), 0],\n",
    "                            [0, 0, 1]])\n",
    "\n",
    "        object_rot = rot_theta @ object.T\n",
    "\n",
    "        x_prime = rot_theta @ np.array([1, 0, 0]).T\n",
    "        y_prime = np.cross(z, x_prime.T)\n",
    "\n",
    "        # Y' -> z vers x'\n",
    "        I=np.eye(3)\n",
    "        y_x=y_prime[0]\n",
    "        y_y=y_prime[1]\n",
    "        y_z=y_prime[2]\n",
    "        P=np.array([ [ y_x*y_x, y_x*y_y, y_x*y_z],\n",
    "                    [ y_x*y_y, y_y*y_y, y_y*y_z],\n",
    "                    [ y_x*y_z , y_y*y_z, y_z*y_z]])\n",
    "        \n",
    "        Q=np.array([[0,-y_z,y_y],\n",
    "                    [y_z,0,-y_x],\n",
    "                    [-y_y, y_x,0]])\n",
    "        \n",
    "        Rot = P + np.cos(phi)*(I-P)+np.sin(phi)*Q\n",
    "\n",
    "        object_rot = Rot @ object_rot\n",
    "\n",
    "        return object_rot.T.astype(int)\n",
    "        \n",
    "       \n",
    "\n"
   ]
  },
  {
   "cell_type": "code",
   "execution_count": 170,
   "metadata": {},
   "outputs": [
    {
     "data": {
      "text/plain": [
       "(26, 26, 26)"
      ]
     },
     "execution_count": 170,
     "metadata": {},
     "output_type": "execute_result"
    }
   ],
   "source": [
    "model=Voxels(scale_print,scale_voxel)\n",
    "model.voxels.shape"
   ]
  },
  {
   "cell_type": "code",
   "execution_count": 171,
   "metadata": {},
   "outputs": [
    {
     "data": {
      "text/plain": [
       "True"
      ]
     },
     "execution_count": 171,
     "metadata": {},
     "output_type": "execute_result"
    }
   ],
   "source": [
    "model.add_density(surface_points)\n",
    "model.density(surface_points)"
   ]
  },
  {
   "attachments": {},
   "cell_type": "markdown",
   "metadata": {},
   "source": [
    "[25,25,25] ne respecte pas les condition d'appartenance "
   ]
  },
  {
   "cell_type": "code",
   "execution_count": 172,
   "metadata": {},
   "outputs": [
    {
     "name": "stderr",
     "output_type": "stream",
     "text": [
      "c:\\Users\\sdesg\\Documents\\Voxel_py310\\myenv\\lib\\site-packages\\pyvista\\utilities\\helpers.py:507: UserWarning: Points is not a float type. This can cause issues when transforming or applying filters. Casting to ``np.float32``. Disable this by passing ``force_float=False``.\n",
      "  warnings.warn(\n"
     ]
    },
    {
     "data": {
      "application/vnd.jupyter.widget-view+json": {
       "model_id": "45c39f356f3d4067b127abd0322bc814",
       "version_major": 2,
       "version_minor": 0
      },
      "text/plain": [
       "Widget(value=\"<iframe src='http://localhost:58478/index.html?ui=P_0x20852cf32e0_74&reconnect=auto' style='widt…"
      ]
     },
     "metadata": {},
     "output_type": "display_data"
    }
   ],
   "source": [
    "p = pv.Plotter()\n",
    "p.add_mesh(model.voxels, color=True, show_edges=True, opacity=0.5)\n",
    "p.add_mesh(object, color=True, show_edges=True, opacity=0.8)\n",
    "p.add_mesh(np.array([24,1,0]), color=True, show_edges=True, opacity=0.8)\n",
    "p.show()\n"
   ]
  },
  {
   "attachments": {},
   "cell_type": "markdown",
   "metadata": {},
   "source": [
    "# Change of position"
   ]
  },
  {
   "attachments": {},
   "cell_type": "markdown",
   "metadata": {},
   "source": [
    "- Translation test"
   ]
  },
  {
   "cell_type": "code",
   "execution_count": 173,
   "metadata": {},
   "outputs": [
    {
     "data": {
      "text/plain": [
       "pyvista_ndarray([[ 7, 11,  0],\n",
       "                 [ 7, 12,  0],\n",
       "                 [ 7, 12,  1],\n",
       "                 ...,\n",
       "                 [19, 12, 25],\n",
       "                 [19, 13, 25],\n",
       "                 [19, 14, 25]])"
      ]
     },
     "execution_count": 173,
     "metadata": {},
     "output_type": "execute_result"
    }
   ],
   "source": [
    "object = surface_points\n",
    "position_ini=np.array([ 7, 11,  0])\n",
    "position_fin=np.array([0, 0, 0])\n",
    "object"
   ]
  },
  {
   "cell_type": "code",
   "execution_count": 174,
   "metadata": {},
   "outputs": [],
   "source": [
    "object=model.move_object_translation(object,position_ini,position_fin)"
   ]
  },
  {
   "attachments": {},
   "cell_type": "markdown",
   "metadata": {},
   "source": [
    "- Rotation test"
   ]
  },
  {
   "cell_type": "code",
   "execution_count": 177,
   "metadata": {},
   "outputs": [
    {
     "data": {
      "text/plain": [
       "array([[ 1,  0,  0],\n",
       "       [ 0,  1,  0],\n",
       "       [ 0,  0, -1]])"
      ]
     },
     "execution_count": 177,
     "metadata": {},
     "output_type": "execute_result"
    }
   ],
   "source": [
    "theta = np.radians(0.)  # x vers y\n",
    "phi = np.radians(90)   # z vers x'\n",
    "# le cas ou theta egale à 0 ou 90 ou 180 ou ... l'axe de rotation devient x ou y \n",
    "# et donc les points bouges pas\n",
    "point = np.array([[0, 0, 1],\n",
    "                  [0, 1, 0],\n",
    "                  [1, 0, 0]])\n",
    "model.rotation(point, theta, phi)"
   ]
  },
  {
   "attachments": {},
   "cell_type": "markdown",
   "metadata": {},
   "source": [
    "- Vector Creation "
   ]
  },
  {
   "cell_type": "code",
   "execution_count": 178,
   "metadata": {},
   "outputs": [],
   "source": [
    "def Vector_Creation(theta, angle_max):\n",
    "    qotient = int(angle_max // theta) + 1\n",
    "    Circle = {i: [] for i in range(qotient)}\n",
    "    Circle[0]=np.array([0])\n",
    "    for i in range(1,qotient):\n",
    "        u=np.cos(theta)\n",
    "        v=np.cos(i*theta)\n",
    "        v=v*v\n",
    "        sigma=np.arccos((u-v)/(1-v))\n",
    "        qotient = int(2*np.pi // sigma) + 1\n",
    "        Circle[i] = np.array([ k*sigma for k in range(qotient)])\n",
    "    return Circle"
   ]
  },
  {
   "cell_type": "code",
   "execution_count": 179,
   "metadata": {},
   "outputs": [
    {
     "name": "stderr",
     "output_type": "stream",
     "text": [
      "c:\\Users\\sdesg\\Documents\\Voxel_py310\\myenv\\lib\\site-packages\\pyvista\\utilities\\helpers.py:507: UserWarning: Points is not a float type. This can cause issues when transforming or applying filters. Casting to ``np.float32``. Disable this by passing ``force_float=False``.\n",
      "  warnings.warn(\n"
     ]
    },
    {
     "data": {
      "application/vnd.jupyter.widget-view+json": {
       "model_id": "1c8976e7d3464580b1c76b77951ddab3",
       "version_major": 2,
       "version_minor": 0
      },
      "text/plain": [
       "Widget(value=\"<iframe src='http://localhost:58478/index.html?ui=P_0x208389accd0_75&reconnect=auto' style='widt…"
      ]
     },
     "metadata": {},
     "output_type": "display_data"
    }
   ],
   "source": [
    "theta=np.pi / 6\n",
    "angle_max=np.pi / 2\n",
    "circle=Vector_Creation(theta, angle_max)\n",
    "point=np.array([0,0,1])\n",
    "point_rotate=[]\n",
    "# for k in circle:\n",
    "for ele in circle[3]:\n",
    "        point_rotate.append(model.rotation(point,ele, 3*theta))\n",
    "point_rotate=np.array(point_rotate)\n",
    "point_rotate\n",
    "p = pv.Plotter()\n",
    "p.add_mesh(point_rotate, color=True, show_edges=True, opacity=0.5)\n",
    "p.show()\n"
   ]
  },
  {
   "attachments": {},
   "cell_type": "markdown",
   "metadata": {},
   "source": [
    "idée : pour chaque vecteur position créée determiner tous en meme temps leur faisabilité (pour tous les points / étages)"
   ]
  },
  {
   "cell_type": "code",
   "execution_count": null,
   "metadata": {},
   "outputs": [],
   "source": [
    "# stacker toutes les positions pour chaque points réussir a le multiplier par la matrice rotation et vérifier s'il y a densité\n",
    "# conserver la forme mesh de l'object pendant sa rotation est voxéliser l'object au moment ou il est en position de test \n",
    "# pour chaque points l'inclinaison de la machin est la meme il suffit donc seulement d'en effectuer une seul de translater l'object sur toutes \n",
    "# les positions et de vérifier s'il est bien"
   ]
  },
  {
   "attachments": {},
   "cell_type": "markdown",
   "metadata": {},
   "source": [
    "- centrer l'object en 0 pour XY"
   ]
  },
  {
   "cell_type": "code",
   "execution_count": 180,
   "metadata": {},
   "outputs": [],
   "source": [
    "mesh = pv.read('Object\\Extruder.stl')\n",
    "center = mesh.center\n",
    "center[-1]=0.\n",
    "mesh.points -= center"
   ]
  },
  {
   "attachments": {},
   "cell_type": "markdown",
   "metadata": {},
   "source": [
    "- modifier l'echelle de l'object"
   ]
  },
  {
   "cell_type": "code",
   "execution_count": 181,
   "metadata": {},
   "outputs": [
    {
     "data": {
      "application/vnd.jupyter.widget-view+json": {
       "model_id": "924820c7c67e450393f1754204d06493",
       "version_major": 2,
       "version_minor": 0
      },
      "text/plain": [
       "Widget(value=\"<iframe src='http://localhost:58478/index.html?ui=P_0x20866de6620_76&reconnect=auto' style='widt…"
      ]
     },
     "metadata": {},
     "output_type": "display_data"
    }
   ],
   "source": [
    "# modifier l'echelle de l'object\n",
    "scale_factor = 0.25/2   # multiplie la taille par 2\n",
    "mesh_scale = mesh.scale([0.25,0.25,0.25], inplace=False)\n",
    "pl = pv.Plotter(shape=(1, 2))\n",
    "pl.subplot(0, 0)\n",
    "pl.show_axes()\n",
    "_ = pl.show_grid()\n",
    "_ = pl.add_mesh(mesh)\n",
    "pl.subplot(0, 1)\n",
    "pl.show_axes()\n",
    "_ = pl.show_grid()\n",
    "_ = pl.add_mesh(mesh_scale)\n",
    "pl.show()"
   ]
  },
  {
   "cell_type": "code",
   "execution_count": 182,
   "metadata": {},
   "outputs": [],
   "source": [
    "def rotation_mesh(mesh, theta, phi):\n",
    "    mesh_copy = mesh.copy()\n",
    "    z=np.array([0,0,1])\n",
    "    mesh_copy.rotate_vector(z, theta, inplace=True)\n",
    "    # Z -> x vers y\n",
    "    \n",
    "    rot_theta = np.array([[np.cos(theta), -np.sin(theta), 0],\n",
    "                        [np.sin(theta), np.cos(theta), 0],\n",
    "                        [0, 0, 1]])\n",
    "\n",
    "    x_prime = rot_theta @ np.array([1, 0, 0]).T\n",
    "    y_prime = np.cross(z, x_prime.T)\n",
    "    mesh_copy.rotate_vector(y_prime, phi, inplace=True)\n",
    "    return mesh_copy"
   ]
  },
  {
   "cell_type": "code",
   "execution_count": 183,
   "metadata": {},
   "outputs": [
    {
     "data": {
      "application/vnd.jupyter.widget-view+json": {
       "model_id": "bb3737f6326a4b8988e1d7e7d46354ea",
       "version_major": 2,
       "version_minor": 0
      },
      "text/plain": [
       "Widget(value=\"<iframe src='http://localhost:58478/index.html?ui=P_0x2084d032650_77&reconnect=auto' style='widt…"
      ]
     },
     "metadata": {},
     "output_type": "display_data"
    }
   ],
   "source": [
    "#rotation \n",
    "theta = 45\n",
    "phi = 45\n",
    "mesh_rotation = rotation_mesh(mesh_scale,theta, phi)   #deg\n",
    "pl = pv.Plotter(shape=(1, 2))\n",
    "pl.subplot(0, 0)\n",
    "pl.show_axes()\n",
    "_ = pl.show_grid()\n",
    "_ = pl.add_mesh(mesh_scale)\n",
    "_ = pl.add_axes_at_origin()\n",
    "pl.subplot(0, 1)\n",
    "pl.show_axes()\n",
    "_ = pl.show_grid()\n",
    "_ = pl.add_mesh(mesh_rotation)\n",
    "_ = pl.add_axes_at_origin()\n",
    "pl.show()"
   ]
  },
  {
   "attachments": {},
   "cell_type": "markdown",
   "metadata": {},
   "source": [
    "# Dijkstra's shortest path algorithm"
   ]
  },
  {
   "cell_type": "code",
   "execution_count": 184,
   "metadata": {},
   "outputs": [],
   "source": [
    "import networkx as nx"
   ]
  },
  {
   "cell_type": "code",
   "execution_count": 185,
   "metadata": {},
   "outputs": [
    {
     "data": {
      "text/plain": [
       "['A', 'D', 'C']"
      ]
     },
     "execution_count": 185,
     "metadata": {},
     "output_type": "execute_result"
    }
   ],
   "source": [
    "G = nx.DiGraph()  # noeud orienté\n",
    "G.add_weighted_edges_from([(\"A\", \"C\",3),\n",
    "                           (\"A\", \"E\",2),\n",
    "                           (\"A\", \"D\",1),\n",
    "                           (\"D\", \"C\",1)])\n",
    "\n",
    "vectors = {\n",
    "    \"A\": [1, 2, 3],\n",
    "    \"D\": [4, 5, 6],\n",
    "    \"C\": [7, 8, 9]\n",
    "}\n",
    "for sommet, vecteur in vectors.items():\n",
    "    G.nodes[sommet][\"vecteur\"] = vecteur\n",
    "shortest_path = nx.dijkstra_path(G, \"A\", \"C\")\n",
    "shortest_path"
   ]
  },
  {
   "attachments": {},
   "cell_type": "markdown",
   "metadata": {},
   "source": [
    "# Free Path"
   ]
  },
  {
   "cell_type": "code",
   "execution_count": 186,
   "metadata": {},
   "outputs": [],
   "source": [
    "def  FreePath(vector_head, tool_path, theta, theta_max, head_print_CAD, printed_object_CAD, scale_voxel, scale_print):\n",
    "\n",
    "    vox = Voxels(scale_print,scale_voxel)\n",
    "\n",
    "    surface_printed = vox.Voxelise_object(printed_object_CAD)\n",
    "    vox.add_density(surface_printed)\n",
    "\n",
    "    print_head = vox.Voxelise_object(head_print_CAD)\n",
    "\n",
    "\n",
    "#   build_graph\n",
    "    num_layers = len(tool_path)\n",
    "    source = 's'\n",
    "    target = 't'\n",
    "    \n",
    "    G = nx.DiGraph()\n",
    "    G.add_node(source)\n",
    "    G.add_node(target)\n",
    "                \n",
    "    layer_vertex = {i: [] for i in range(num_layers)}\n",
    "    Circle=Vector_Creation(theta, angle_max)\n",
    "    \n",
    "    for i in range(num_layers):\n",
    "        if i > 0:\n",
    "            prev_layer = i - 1    # Récupérez les sommets de l'étage précédent\n",
    "            prev_layer_vertices = layer_vertex[prev_layer]\n",
    "\n",
    "        for j, vec1 in enumerate(Circle):\n",
    "            position = move_object_rotation(print_head,tool_path[i], angle =(Circle[-2], Circle[-1])) # modifie la position de la tete dans les coordonnées associé au voxels\n",
    "            if not vox.density(position): # s'il n'y a pas de desnité (pas d'obstacle)\n",
    "                current_vertex = (i, j)  #  name of the vertex\n",
    "                G.add_node(current_vertex, vector=vec1, angle=theta) # creer le sommet white atribute \n",
    "                layer_vertex[i].append(current_vertex)  # Ajoute les sommets aux listes d'étages\n",
    "                if i > 0:\n",
    "                    for prev_vertex in prev_layer_vertices: # creer des liaison entre les etages si la condition angulaire est respécté\n",
    "                        angle = abs(G.nodes[prev_vertex]['angle']-G.nodes[current_vertex]['angle'])\n",
    "                        if angle <= theta:\n",
    "                            G.add_edge(prev_vertex, current_vertex, weight=angle)\n",
    "                if i == 0:\n",
    "                    G.add_edge(source, current_vertex, weight=0)\n",
    "                if i == num_layers-1:\n",
    "                    G.add_edge(current_vertex,target ,weight=0)\n",
    "        vox.add_density(tool_path[i])\n",
    "\n",
    "    shortest_path = nx.dijkstra_path(G, source, target)\n",
    "\n",
    "\n",
    "    "
   ]
  }
 ],
 "metadata": {
  "kernelspec": {
   "display_name": "myenv",
   "language": "python",
   "name": "python3"
  },
  "language_info": {
   "codemirror_mode": {
    "name": "ipython",
    "version": 3
   },
   "file_extension": ".py",
   "mimetype": "text/x-python",
   "name": "python",
   "nbconvert_exporter": "python",
   "pygments_lexer": "ipython3",
   "version": "3.10.11"
  },
  "orig_nbformat": 4
 },
 "nbformat": 4,
 "nbformat_minor": 2
}
