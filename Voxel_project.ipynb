{
 "cells": [
  {
   "cell_type": "code",
   "execution_count": 27,
   "metadata": {},
   "outputs": [],
   "source": [
    "import pyvista as pv\n",
    "import numpy as np\n",
    "import math  \n",
    "import trame\n",
    "import networkx as nx\n",
    "import time\n",
    "\n",
    "\n",
    "from tqdm import tqdm\n",
    "from Voxel_model import Voxels\n",
    "from Path_create import Create_Path\n",
    "from creation_vector import Vector_Creation\n",
    "from mesh_tools import centrer_0xy , rotation_mesh , midle_xy ,translation\n",
    "\n",
    "from Free_path import Free_path\n",
    "from Slicing import collision \n",
    "\n",
    "# import trimesh\n",
    "# import pyvox\n",
    "# import pyvoxsurf"
   ]
  },
  {
   "cell_type": "markdown",
   "metadata": {},
   "source": [
    "# Test Path"
   ]
  },
  {
   "cell_type": "code",
   "execution_count": 4,
   "metadata": {},
   "outputs": [
    {
     "data": {
      "application/vnd.jupyter.widget-view+json": {
       "model_id": "370cf7d27b1143a197a62dfff03d6908",
       "version_major": 2,
       "version_minor": 0
      },
      "text/plain": [
       "Widget(value=\"<iframe src='http://localhost:60314/index.html?ui=P_0x16aa993c0_1&reconnect=auto' style='width: …"
      ]
     },
     "metadata": {},
     "output_type": "display_data"
    }
   ],
   "source": [
    "path = Create_Path('Object//UM3E_Copy of Cube Extruder (3).gcode')\n",
    "path.read_gcode(12)\n",
    "\n",
    "collision = Create_Path('Object//UM3E_collision.gcode')\n",
    "collision.read_gcode(11)\n",
    "\n",
    "path.centrer(collision.tool_path)\n",
    "\n",
    "mesh_collision = centrer_0xy('Object/collision.stl')\n",
    "\n",
    "path.figure(mesh_collision)"
   ]
  },
  {
   "cell_type": "markdown",
   "metadata": {},
   "source": [
    "# From STL to Voxel"
   ]
  },
  {
   "cell_type": "code",
   "execution_count": 5,
   "metadata": {},
   "outputs": [],
   "source": [
    "scale_voxel = 0.5\n",
    "scale_print= 500\n",
    "vox = Voxels(scale_print,scale_voxel)"
   ]
  },
  {
   "cell_type": "code",
   "execution_count": 6,
   "metadata": {},
   "outputs": [],
   "source": [
    "voxels_collision = pv.voxelize(mesh_collision, density=scale_voxel, check_surface=False)\n",
    "voxels_collision.points = np.divide(voxels_collision.points,scale_voxel).astype(int)\n",
    "mesh_collision.points = np.divide(mesh_collision.points,scale_voxel).astype(int)"
   ]
  },
  {
   "cell_type": "code",
   "execution_count": 42,
   "metadata": {},
   "outputs": [],
   "source": [
    "voxels_collision_surface = voxels_collision.extract_surface()"
   ]
  },
  {
   "cell_type": "code",
   "execution_count": 7,
   "metadata": {
    "scrolled": false
   },
   "outputs": [
    {
     "name": "stderr",
     "output_type": "stream",
     "text": [
      "/Library/Frameworks/Python.framework/Versions/3.10/lib/python3.10/site-packages/pyvista/utilities/helpers.py:507: UserWarning: Points is not a float type. This can cause issues when transforming or applying filters. Casting to ``np.float32``. Disable this by passing ``force_float=False``.\n",
      "  warnings.warn(\n"
     ]
    },
    {
     "data": {
      "application/vnd.jupyter.widget-view+json": {
       "model_id": "10b94c4356b44b87a7d5ab60379dd953",
       "version_major": 2,
       "version_minor": 0
      },
      "text/plain": [
       "Widget(value=\"<iframe src='http://localhost:60314/index.html?ui=P_0x16aa98bb0_2&reconnect=auto' style='width: …"
      ]
     },
     "metadata": {},
     "output_type": "display_data"
    }
   ],
   "source": [
    "centre = midle_xy(voxels_collision)\n",
    "voxels_collision.points = translation(voxels_collision.points,centre,vox.midle)\n",
    "mesh_collision.points = translation(mesh_collision.points,centre,vox.midle)\n",
    "\n",
    "path.correction(vox.scale_voxel)\n",
    "path.translat(centre,vox.midle)\n",
    "path.figure(mesh_collision)"
   ]
  },
  {
   "cell_type": "code",
   "execution_count": 8,
   "metadata": {},
   "outputs": [
    {
     "name": "stdout",
     "output_type": "stream",
     "text": [
      "28.376634208951145\n"
     ]
    }
   ],
   "source": [
    "mesh_head_print=  pv.read('Object/Deposition Head.stl')\n",
    "debut = time.perf_counter()\n",
    "voxels_head_print = pv.voxelize(mesh_head_print, density=scale_voxel, check_surface=False)\n",
    "fin = time.perf_counter()\n",
    "print(fin-debut)\n",
    "voxels_head_print.points = np.divide(voxels_head_print.points,vox.scale_voxel).astype(int)\n",
    "mesh_head_print.points = np.divide(mesh_head_print.points,vox.scale_voxel).astype(int)"
   ]
  },
  {
   "cell_type": "code",
   "execution_count": 9,
   "metadata": {},
   "outputs": [],
   "source": [
    "voxels_head_print = voxels_head_print.extract_surface()\n",
    "voxels_head_print.points[:,2]+=6"
   ]
  },
  {
   "cell_type": "code",
   "execution_count": 10,
   "metadata": {},
   "outputs": [],
   "source": [
    "vox.add_density(voxels_collision.points)"
   ]
  },
  {
   "cell_type": "markdown",
   "metadata": {},
   "source": [
    "# Tool Vectors"
   ]
  },
  {
   "cell_type": "code",
   "execution_count": 11,
   "metadata": {},
   "outputs": [
    {
     "name": "stdout",
     "output_type": "stream",
     "text": [
      " JS Error => error: TypeError: Invalid mix of BigInt and other type in multiplication.\n"
     ]
    }
   ],
   "source": [
    "theta , theta_max = 10 , 50\n",
    "Circle=Vector_Creation(np.deg2rad(theta),np.deg2rad(theta_max))\n",
    "\n",
    "position_head_layer_circle = {i: [] for i in Circle }\n",
    "G = nx.DiGraph()\n",
    "tool_path = path.tool_path[5000:5200]\n",
    "num_layers = len(tool_path)\n",
    "layer_vertex = {i: [] for i in range(num_layers)}"
   ]
  },
  {
   "cell_type": "markdown",
   "metadata": {},
   "source": [
    "# Free Path generation"
   ]
  },
  {
   "cell_type": "markdown",
   "metadata": {},
   "source": [
    "- Free_path_parallelize_ThreadPool"
   ]
  },
  {
   "cell_type": "code",
   "execution_count": 16,
   "metadata": {},
   "outputs": [
    {
     "name": "stderr",
     "output_type": "stream",
     "text": [
      "100%|████████████████████████████████████████| 200/200 [00:00<00:00, 584.30it/s]\n",
      "/Library/Frameworks/Python.framework/Versions/3.10/lib/python3.10/site-packages/pyvista/core/filters/data_set.py:5168: UserWarning: Integer points, vector and normal data (if any) of the input mesh have been converted to ``np.float32``. This is necessary in order to transform properly.\n",
      "  warnings.warn(\n"
     ]
    },
    {
     "name": "stdout",
     "output_type": "stream",
     "text": [
      "13.912955042091198\n"
     ]
    }
   ],
   "source": [
    "debut = time.perf_counter()\n",
    "free_path= Free_path_parallelize_ThreadPool(vox, tool_path, voxels_head_print, theta , position_head_layer_circle,Circle, G, layer_vertex )\n",
    "fin = time.perf_counter()\n",
    "print(fin-debut)"
   ]
  },
  {
   "cell_type": "markdown",
   "metadata": {},
   "source": [
    "- Free_path_parallelize_ProcessPool"
   ]
  },
  {
   "cell_type": "code",
   "execution_count": null,
   "metadata": {},
   "outputs": [],
   "source": [
    "debut = time.perf_counter()\n",
    "free_path= Free_path_parallelize_ProcessPool(vox, tool_path, voxels_head_print, theta , position_head_layer_circle,Circle, G, layer_vertex )\n",
    "fin = time.perf_counter()\n",
    "print(fin-debut)"
   ]
  },
  {
   "cell_type": "markdown",
   "metadata": {},
   "source": [
    "- Free_path"
   ]
  },
  {
   "cell_type": "code",
   "execution_count": null,
   "metadata": {},
   "outputs": [],
   "source": [
    "debut = time.perf_counter()\n",
    "free_path= Free_path(vox, tool_path, voxels_head_print, theta , position_head_layer_circle,Circle, G, layer_vertex )\n",
    "fin = time.perf_counter()\n",
    "print(fin-debut)"
   ]
  },
  {
   "cell_type": "markdown",
   "metadata": {},
   "source": [
    "# See results"
   ]
  },
  {
   "cell_type": "code",
   "execution_count": 51,
   "metadata": {},
   "outputs": [],
   "source": [
    "free_path=free_path[1:-1]"
   ]
  },
  {
   "cell_type": "code",
   "execution_count": 52,
   "metadata": {
    "scrolled": false
   },
   "outputs": [
    {
     "name": "stderr",
     "output_type": "stream",
     "text": [
      "/Library/Frameworks/Python.framework/Versions/3.10/lib/python3.10/site-packages/pyvista/utilities/helpers.py:507: UserWarning: Points is not a float type. This can cause issues when transforming or applying filters. Casting to ``np.float32``. Disable this by passing ``force_float=False``.\n",
      "  warnings.warn(\n"
     ]
    },
    {
     "data": {
      "application/vnd.jupyter.widget-view+json": {
       "model_id": "d314753a784a479eb8805f4ca8d9997f",
       "version_major": 2,
       "version_minor": 0
      },
      "text/plain": [
       "Widget(value=\"<iframe src='http://localhost:60314/index.html?ui=P_0x13fb92d70_10&reconnect=auto' style='width:…"
      ]
     },
     "metadata": {},
     "output_type": "display_data"
    },
    {
     "name": "stdout",
     "output_type": "stream",
     "text": [
      " JS Error => error: TypeError: Invalid mix of BigInt and other type in multiplication.\n"
     ]
    }
   ],
   "source": [
    "p=pv.Plotter()\n",
    "ele=free_path[0]\n",
    "position_rotate = position_head_layer_circle[ele[1]][ele[2]].copy()\n",
    "position_rotate = translation(position_rotate,tool_path[-1],tool_path[ele[0]])\n",
    "\n",
    "p.add_mesh(position_rotate, show_edges=False, color='blue')\n",
    "p.add_mesh(mesh_collision, color=True, show_edges=True, opacity=0.7)\n",
    "p.show()"
   ]
  },
  {
   "cell_type": "markdown",
   "metadata": {},
   "source": [
    "# With Slicing"
   ]
  },
  {
   "cell_type": "code",
   "execution_count": 49,
   "metadata": {},
   "outputs": [],
   "source": [
    "theta , theta_max = 10 , 50\n",
    "Circle=Vector_Creation(np.deg2rad(theta),np.deg2rad(theta_max))\n",
    "\n",
    "position_head_layer_circle = {i: [] for i in Circle }\n",
    "G = nx.DiGraph()\n",
    "tool_path = path.tool_path[5000:5001]\n",
    "num_layers = len(tool_path)\n",
    "layer_vertex = {i: [] for i in range(num_layers)}\n",
    " \n",
    "#z_min = min_max_axis(voxels_collision.points,'z','min')\n",
    "#z_max = min_max_axis(voxels_collision.points,'z','max')\n",
    "#layer_slicing = {i: set() for i in np.arange(z_min,z_max,1)}"
   ]
  },
  {
   "cell_type": "code",
   "execution_count": 50,
   "metadata": {},
   "outputs": [
    {
     "name": "stderr",
     "output_type": "stream",
     "text": [
      "100%|█████████████████████████████████████████████| 1/1 [00:01<00:00,  1.52s/it]"
     ]
    },
    {
     "name": "stdout",
     "output_type": "stream",
     "text": [
      "1.524331457912922\n"
     ]
    },
    {
     "name": "stderr",
     "output_type": "stream",
     "text": [
      "\n"
     ]
    }
   ],
   "source": [
    "# collision_set_layer or collision_intersect_layer\n",
    "                    \n",
    "debut = time.perf_counter()\n",
    "free_path= Free_path_Slicing(vox, tool_path, voxels_head_print, voxels_collision_surface, theta , position_head_layer_circle,Circle, G, layer_vertex,  collision_intersect_layer)\n",
    "fin = time.perf_counter()\n",
    "print(fin-debut)"
   ]
  },
  {
   "cell_type": "markdown",
   "metadata": {},
   "source": [
    "# Create video"
   ]
  },
  {
   "cell_type": "code",
   "execution_count": 18,
   "metadata": {},
   "outputs": [],
   "source": [
    "import os\n",
    "from video import create_images , create_video"
   ]
  },
  {
   "cell_type": "code",
   "execution_count": 19,
   "metadata": {},
   "outputs": [
    {
     "name": "stderr",
     "output_type": "stream",
     "text": [
      "  0%|                                                   | 0/200 [00:00<?, ?it/s]/Library/Frameworks/Python.framework/Versions/3.10/lib/python3.10/site-packages/pyvista/utilities/helpers.py:507: UserWarning: Points is not a float type. This can cause issues when transforming or applying filters. Casting to ``np.float32``. Disable this by passing ``force_float=False``.\n",
      "  warnings.warn(\n",
      "100%|█████████████████████████████████████████| 200/200 [00:05<00:00, 38.83it/s]\n",
      "WARNING:imageio_ffmpeg:IMAGEIO FFMPEG_WRITER WARNING: input image is not divisible by macro_block_size=16, resizing from (800, 600) to (800, 608) to ensure video compatibility with most codecs and players. To prevent resizing, make your input image divisible by the macro_block_size or set the macro_block_size to 1 (risking incompatibility).\n"
     ]
    }
   ],
   "source": [
    "free_path_images = create_images(free_path,position_head_layer_circle,tool_path,mesh_collision)\n",
    "os.environ['IMAGEIO_FFMPEG_EXE'] = '/opt/homebrew/Cellar/ffmpeg/6.0/bin/ffmpeg'\n",
    "create_video(free_path_images, \"Object/animation.mp4\")"
   ]
  },
  {
   "cell_type": "markdown",
   "metadata": {},
   "source": [
    "# Parralelize code "
   ]
  },
  {
   "cell_type": "code",
   "execution_count": 14,
   "metadata": {},
   "outputs": [],
   "source": [
    "from concurrent.futures import ThreadPoolExecutor\n",
    "from concurrent.futures import ProcessPoolExecutor\n",
    "def Free_path_parallelize_ThreadPool(vox, tool_path, surface, theta, position_head_layer_circle, Circle, G, layer_vertex):\n",
    "    z_max_collision = voxels_collision.points[:,2].max()\n",
    "    num_layers = len(tool_path)\n",
    "    source = 's'\n",
    "    target = 't'\n",
    "\n",
    "    G.add_node(source)\n",
    "    G.add_node(target)\n",
    "        \n",
    "            \n",
    "    with ThreadPoolExecutor(8) as executor:\n",
    "        for i in tqdm(range(num_layers)):\n",
    "            if i > 0:\n",
    "                prev_layer = i - 1\n",
    "                prev_layer_vertices = layer_vertex[prev_layer]\n",
    "            else :\n",
    "                    prev_layer_vertices = source\n",
    "            iterations_args = [(delta, ind, j,G,theta,tool_path, position_head_layer_circle, layer_vertex, prev_layer_vertices, vox, surface, i, target, source , z_max_collision) for j in Circle for ind, delta in enumerate(np.rad2deg(Circle[j]))]\n",
    "\n",
    "                # Paralléliser les appels à la fonction process_iteration\n",
    "            executor.map(process_iteration, iterations_args)\n",
    "\n",
    "            vox.voxels[tool_path[i][0], tool_path[i][1], tool_path[i][2]] = 1\n",
    "\n",
    "    shortest_path = nx.dijkstra_path(G, source, target)\n",
    "    return  shortest_path"
   ]
  },
  {
   "cell_type": "code",
   "execution_count": 15,
   "metadata": {},
   "outputs": [],
   "source": [
    "def process_iteration(args):\n",
    "    delta, ind, j,G,theta,tool_path, position_head_layer_circle, layer_vertex, prev_layer_vertices, vox, surface, i, target, source , z_max_collision= args\n",
    "    \n",
    "    \n",
    "    if i == 0:\n",
    "        position_rotate = rotation_mesh(surface, delta, j * theta)\n",
    "        position_rotate = np.floor(position_rotate.points).astype(int)\n",
    "        position_head_layer_circle[j].append(position_rotate)\n",
    "        position = translation(position_rotate, np.array([0, 0, 0]), tool_path[i])\n",
    "    else:\n",
    "        position_rotate = position_head_layer_circle[j][ind]\n",
    "        position = translation(position_rotate, tool_path[i - 1], tool_path[i])\n",
    "        \n",
    "    mask = position[:,2]<= z_max_collision\n",
    "        \n",
    "    if not vox.density(position[mask]):  # s'il n'y a pas de desnité (pas d'obstacle)\n",
    "        \n",
    "        current_vertex = (i, j, ind)  # name of the vertex\n",
    "        G.add_node(current_vertex, angle_z=j * theta)  # creer le sommet white atribute\n",
    "        layer_vertex[i].append(current_vertex)  # Ajoute les sommets aux listes d'étages\n",
    "        if i > 0:\n",
    "            for prev_vertex in prev_layer_vertices:  # creer des liaison entre les etages si la condition angulaire est respécté\n",
    "                angle = abs(G.nodes[prev_vertex]['angle_z'] - G.nodes[current_vertex]['angle_z'])\n",
    "                if angle <= theta:\n",
    "                    G.add_edge(prev_vertex, current_vertex, weight=angle)\n",
    "        if i == 0:\n",
    "            G.add_edge(source, current_vertex, weight=0)\n",
    "        if i == num_layers - 1:\n",
    "            G.add_edge(current_vertex, target, weight=0)"
   ]
  },
  {
   "cell_type": "markdown",
   "metadata": {},
   "source": [
    "# Slicing Code "
   ]
  },
  {
   "cell_type": "code",
   "execution_count": 34,
   "metadata": {},
   "outputs": [],
   "source": [
    "def Free_path_Slicing(vox, tool_path, surface,voxels_collision, theta, position_head_layer_circle,Circle,G, layer_vertex , collision_function):\n",
    "        num_layers = len(tool_path)\n",
    "        source = 's'\n",
    "        target = 't'\n",
    "        \n",
    "        G.add_node(source)\n",
    "        G.add_node(target)\n",
    "        \n",
    "        for i in tqdm(range(num_layers)):\n",
    "            if i > 0:\n",
    "                prev_layer = i - 1    # Récupérez les sommets de l'étage précédent\n",
    "                prev_layer_vertices = layer_vertex[prev_layer]\n",
    "\n",
    "            for j in Circle:\n",
    "                for ind, delta in enumerate(np.rad2deg(Circle[j])):\n",
    "                    \n",
    "                    if i == 0 :\n",
    "                        position_rotate = rotation_mesh(surface, delta,j*theta) \n",
    "                        position_rotate = np.floor(position_rotate.points).astype(int)\n",
    "                        position_head_layer_circle[j].append(position_rotate)\n",
    "                        position = translation(position_rotate,np.array([0,0,0]),tool_path[i])\n",
    "                    else :\n",
    "                        position_rotate = position_head_layer_circle[j][ind]\n",
    "                        position = translation(position_rotate,tool_path[i-1],tool_path[i])\n",
    "                    \n",
    "                    Collision = collision(position , voxels_collision.points , collision_function ) # collision_set_layer or collision_intersect_layer\n",
    "                   \n",
    "                    if not Collision: # s'il n'y a pas de desnité (pas d'obstacle)\n",
    "                        current_vertex = (i, j , ind)  #  name of the vertex\n",
    "                        G.add_node(current_vertex, angle_z=j*theta) # creer le sommet white atribute \n",
    "                        layer_vertex[i].append(current_vertex)  # Ajoute les sommets aux listes d'étages\n",
    "                        if i > 0:\n",
    "                            for prev_vertex in prev_layer_vertices: # creer des liaison entre les etages si la condition angulaire est respécté\n",
    "                                angle = abs(G.nodes[prev_vertex]['angle_z']-G.nodes[current_vertex]['angle_z'])\n",
    "                                if angle <= theta:\n",
    "                                    G.add_edge(prev_vertex, current_vertex, weight=angle)\n",
    "                        if i == 0:\n",
    "                            G.add_edge(source, current_vertex, weight=0)\n",
    "                        if i == num_layers-1:\n",
    "                            G.add_edge(current_vertex,target ,weight=0)\n",
    "                            \n",
    "            vox.voxels[tool_path[i][0],tool_path[i][1],tool_path[i][2]]=1\n",
    "\n",
    "\n",
    "       \n",
    "        shortest_path = nx.dijkstra_path(G, source, target)\n",
    "        \n",
    "        return shortest_path "
   ]
  },
  {
   "cell_type": "code",
   "execution_count": null,
   "metadata": {},
   "outputs": [],
   "source": []
  }
 ],
 "metadata": {
  "kernelspec": {
   "display_name": "Python 3 (ipykernel)",
   "language": "python",
   "name": "python3"
  },
  "language_info": {
   "codemirror_mode": {
    "name": "ipython",
    "version": 3
   },
   "file_extension": ".py",
   "mimetype": "text/x-python",
   "name": "python",
   "nbconvert_exporter": "python",
   "pygments_lexer": "ipython3",
   "version": "3.10.10"
  }
 },
 "nbformat": 4,
 "nbformat_minor": 2
}
