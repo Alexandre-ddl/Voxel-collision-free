{
 "cells": [
  {
   "cell_type": "code",
   "execution_count": 6,
   "metadata": {},
   "outputs": [],
   "source": [
    "import pyvista as pv  # used to create voxel\n",
    "import numpy as np \n",
    "import math  \n",
    "import trame # used to create figures with pyvista \n",
    "import networkx as nx # used for graph\n",
    "import time # used to see the time\n",
    "\n",
    "\n",
    "from tqdm import tqdm\n",
    "from Voxel_model import Voxels\n",
    "from Path_create import Create_Path\n",
    "from creation_vector import Vector_Creation\n",
    "from mesh_tools import centrer_0xy , rotation_mesh , midle_xy ,translation\n",
    "\n",
    "from Free_path import Free_path\n",
    "from Slicing import collision , collision_set_layer , collision_intersect_layer\n",
    "\n",
    "# import trimesh\n",
    "# import pyvox\n",
    "# import pyvoxsurf"
   ]
  },
  {
   "cell_type": "markdown",
   "metadata": {},
   "source": [
    "# Test Path"
   ]
  },
  {
   "cell_type": "markdown",
   "metadata": {},
   "source": [
    "Here : \n",
    "\n",
    ">- I create the path\n",
    ">- I center it to the collision object\n",
    ">- I load and center the collision object\n",
    ">- I visualize the whole"
   ]
  },
  {
   "cell_type": "code",
   "execution_count": 2,
   "metadata": {},
   "outputs": [
    {
     "data": {
      "application/vnd.jupyter.widget-view+json": {
       "model_id": "6c5ca6f756314ef4a42fa7bb97f8cb52",
       "version_major": 2,
       "version_minor": 0
      },
      "text/plain": [
       "Widget(value=\"<iframe src='http://localhost:61178/index.html?ui=P_0x1089fdc90_0&reconnect=auto' style='width: …"
      ]
     },
     "metadata": {},
     "output_type": "display_data"
    }
   ],
   "source": [
    "path = Create_Path('Object//UM3E_Copy of Cube Extruder (3).gcode') \n",
    "path.read_gcode(12)\n",
    "\n",
    "Collision = Create_Path('Object//UM3E_collision.gcode')\n",
    "Collision.read_gcode(11)\n",
    "path.centrer(Collision.tool_path)\n",
    "\n",
    "mesh_collision = centrer_0xy('Object/collision.stl')\n",
    "\n",
    "path.figure(mesh_collision)"
   ]
  },
  {
   "cell_type": "markdown",
   "metadata": {},
   "source": [
    "# From STL to Voxel"
   ]
  },
  {
   "cell_type": "markdown",
   "metadata": {},
   "source": [
    "Here : \n",
    "\n",
    ">- I create the voxel model\n",
    ">- I voxelize the the collision object \n",
    ">- I scale the mesh and voxels by dividing it by the voxel size\n",
    ">- I scale the path coordinates in the voxel base (path.correction)\n",
    ">- I translate everything to the center of the voxel model to avoid overflows \n",
    ">- I visualize the whole\n",
    "    "
   ]
  },
  {
   "cell_type": "code",
   "execution_count": 3,
   "metadata": {},
   "outputs": [],
   "source": [
    "scale_voxel = 0.5\n",
    "scale_print= 500\n",
    "vox = Voxels(scale_print,scale_voxel)"
   ]
  },
  {
   "cell_type": "code",
   "execution_count": 4,
   "metadata": {},
   "outputs": [],
   "source": [
    "voxels_collision = pv.voxelize(mesh_collision, density=scale_voxel, check_surface=False)\n",
    "voxels_collision.points = np.divide(voxels_collision.points,scale_voxel).astype(int)\n",
    "mesh_collision.points = np.divide(mesh_collision.points,scale_voxel).astype(int)"
   ]
  },
  {
   "cell_type": "code",
   "execution_count": 5,
   "metadata": {
    "scrolled": true
   },
   "outputs": [
    {
     "name": "stderr",
     "output_type": "stream",
     "text": [
      "/Library/Frameworks/Python.framework/Versions/3.10/lib/python3.10/site-packages/pyvista/utilities/helpers.py:507: UserWarning: Points is not a float type. This can cause issues when transforming or applying filters. Casting to ``np.float32``. Disable this by passing ``force_float=False``.\n",
      "  warnings.warn(\n"
     ]
    },
    {
     "data": {
      "application/vnd.jupyter.widget-view+json": {
       "model_id": "071d349cb1514fd5a011d569a10f4776",
       "version_major": 2,
       "version_minor": 0
      },
      "text/plain": [
       "Widget(value=\"<iframe src='http://localhost:61178/index.html?ui=P_0x1666eb550_1&reconnect=auto' style='width: …"
      ]
     },
     "metadata": {},
     "output_type": "display_data"
    },
    {
     "name": "stdout",
     "output_type": "stream",
     "text": [
      " JS Error => error: TypeError: Invalid mix of BigInt and other type in multiplication.\n",
      " JS Error => error: TypeError: Invalid mix of BigInt and other type in addition.\n"
     ]
    }
   ],
   "source": [
    "path.correction(vox.scale_voxel)\n",
    "\n",
    "centre = midle_xy(voxels_collision)\n",
    "voxels_collision.points = translation(voxels_collision.points,centre,vox.midle)\n",
    "mesh_collision.points = translation(mesh_collision.points,centre,vox.midle)\n",
    "path.translat(centre,vox.midle)\n",
    "\n",
    "path.figure(mesh_collision)"
   ]
  },
  {
   "cell_type": "markdown",
   "metadata": {},
   "source": [
    "Here : \n",
    "\n",
    ">- I read the file of the print head\n",
    ">- I voxelize it\n",
    ">- I scale the mesh and voxels by dividing it by the voxel size\n",
    ">- I extract the surface voxels for the print head and the collision object\n",
    ">- I raise the tool 6 mm above each point \n",
    ">- I add density in the voxel model "
   ]
  },
  {
   "cell_type": "code",
   "execution_count": 7,
   "metadata": {},
   "outputs": [
    {
     "name": "stdout",
     "output_type": "stream",
     "text": [
      "28.15361249994021\n"
     ]
    }
   ],
   "source": [
    "mesh_head_print=  pv.read('Object/Deposition Head.stl')\n",
    "debut = time.perf_counter()\n",
    "voxels_head_print = pv.voxelize(mesh_head_print, density=scale_voxel, check_surface=False)\n",
    "fin = time.perf_counter()\n",
    "print(fin-debut)\n",
    "voxels_head_print.points = np.divide(voxels_head_print.points,vox.scale_voxel).astype(int)\n",
    "mesh_head_print.points = np.divide(mesh_head_print.points,vox.scale_voxel).astype(int)"
   ]
  },
  {
   "cell_type": "code",
   "execution_count": 8,
   "metadata": {},
   "outputs": [],
   "source": [
    "voxels_collision_surface = voxels_collision.extract_surface()\n",
    "voxels_head_print = voxels_head_print.extract_surface()\n",
    "voxels_head_print.points[:,2]+=int(6/vox.scale_voxel)"
   ]
  },
  {
   "cell_type": "code",
   "execution_count": 9,
   "metadata": {},
   "outputs": [],
   "source": [
    "vox.add_density(voxels_collision_surface.points)"
   ]
  },
  {
   "cell_type": "markdown",
   "metadata": {},
   "source": [
    "# Tool Vectors"
   ]
  },
  {
   "cell_type": "markdown",
   "metadata": {},
   "source": [
    "Here : \n",
    "\n",
    ">  - functions and variables explained in python files "
   ]
  },
  {
   "cell_type": "code",
   "execution_count": 15,
   "metadata": {},
   "outputs": [],
   "source": [
    "theta , theta_max = 10 , 50\n",
    "Circle=Vector_Creation(np.deg2rad(theta),np.deg2rad(theta_max))\n",
    "\n",
    "position_head_layer_circle = {i: [] for i in Circle }\n",
    "G = nx.DiGraph()\n",
    "tool_path = path.tool_path[5000:5002]\n",
    "num_layers = len(tool_path)\n",
    "layer_vertex = {i: [] for i in range(num_layers)}\n",
    "z_max_collision = voxels_collision_surface.points[:,2].max()"
   ]
  },
  {
   "cell_type": "markdown",
   "metadata": {},
   "source": [
    "# Free Path generation"
   ]
  },
  {
   "cell_type": "markdown",
   "metadata": {},
   "source": [
    ">> before launching each Free_Path function you have to restart the Tool Vector code to reset the parameters "
   ]
  },
  {
   "cell_type": "markdown",
   "metadata": {},
   "source": [
    "- Free_path_parallelize_ThreadPool"
   ]
  },
  {
   "cell_type": "code",
   "execution_count": 14,
   "metadata": {},
   "outputs": [
    {
     "name": "stderr",
     "output_type": "stream",
     "text": [
      "100%|█████████████████████████████████████████████| 2/2 [00:00<00:00, 49.78it/s]\n",
      "/Library/Frameworks/Python.framework/Versions/3.10/lib/python3.10/site-packages/pyvista/core/filters/data_set.py:5168: UserWarning: Integer points, vector and normal data (if any) of the input mesh have been converted to ``np.float32``. This is necessary in order to transform properly.\n",
      "  warnings.warn(\n"
     ]
    },
    {
     "name": "stdout",
     "output_type": "stream",
     "text": [
      "0.4295770829776302\n"
     ]
    }
   ],
   "source": [
    "debut = time.perf_counter()\n",
    "free_path= Free_path_parallelize_ThreadPool(vox, tool_path, voxels_head_print, theta , position_head_layer_circle,Circle, G, layer_vertex , z_max_collision )\n",
    "fin = time.perf_counter()\n",
    "print(fin-debut)"
   ]
  },
  {
   "cell_type": "markdown",
   "metadata": {},
   "source": [
    "- Free_path"
   ]
  },
  {
   "cell_type": "code",
   "execution_count": 16,
   "metadata": {},
   "outputs": [
    {
     "name": "stderr",
     "output_type": "stream",
     "text": [
      "  0%|                                                     | 0/2 [00:00<?, ?it/s]\n"
     ]
    },
    {
     "ename": "NameError",
     "evalue": "name 'z_max_collision' is not defined",
     "output_type": "error",
     "traceback": [
      "\u001b[0;31m---------------------------------------------------------------------------\u001b[0m",
      "\u001b[0;31mNameError\u001b[0m                                 Traceback (most recent call last)",
      "Cell \u001b[0;32mIn[16], line 2\u001b[0m\n\u001b[1;32m      1\u001b[0m debut \u001b[38;5;241m=\u001b[39m time\u001b[38;5;241m.\u001b[39mperf_counter()\n\u001b[0;32m----> 2\u001b[0m free_path\u001b[38;5;241m=\u001b[39m \u001b[43mFree_path\u001b[49m\u001b[43m(\u001b[49m\u001b[43mvox\u001b[49m\u001b[43m,\u001b[49m\u001b[43m \u001b[49m\u001b[43mtool_path\u001b[49m\u001b[43m,\u001b[49m\u001b[43m \u001b[49m\u001b[43mvoxels_head_print\u001b[49m\u001b[43m,\u001b[49m\u001b[43m \u001b[49m\u001b[43mtheta\u001b[49m\u001b[43m \u001b[49m\u001b[43m,\u001b[49m\u001b[43m \u001b[49m\u001b[43mposition_head_layer_circle\u001b[49m\u001b[43m,\u001b[49m\u001b[43mCircle\u001b[49m\u001b[43m,\u001b[49m\u001b[43m \u001b[49m\u001b[43mG\u001b[49m\u001b[43m,\u001b[49m\u001b[43m \u001b[49m\u001b[43mlayer_vertex\u001b[49m\u001b[43m \u001b[49m\u001b[43m)\u001b[49m\n\u001b[1;32m      3\u001b[0m fin \u001b[38;5;241m=\u001b[39m time\u001b[38;5;241m.\u001b[39mperf_counter()\n\u001b[1;32m      4\u001b[0m \u001b[38;5;28mprint\u001b[39m(fin\u001b[38;5;241m-\u001b[39mdebut)\n",
      "File \u001b[0;32m~/Desktop/python/Free_path.py:86\u001b[0m, in \u001b[0;36mFree_path\u001b[0;34m(vox, tool_path, surface, theta, position_head_layer_circle, Circle, G, layer_vertex)\u001b[0m\n\u001b[1;32m     83\u001b[0m     position_rotate \u001b[38;5;241m=\u001b[39m position_head_layer_circle[j][ind]\n\u001b[1;32m     84\u001b[0m     position \u001b[38;5;241m=\u001b[39m translation(position_rotate,tool_path[i\u001b[38;5;241m-\u001b[39m\u001b[38;5;241m1\u001b[39m],tool_path[i])\n\u001b[0;32m---> 86\u001b[0m mask \u001b[38;5;241m=\u001b[39m position[:,\u001b[38;5;241m2\u001b[39m]\u001b[38;5;241m<\u001b[39m\u001b[38;5;241m=\u001b[39m \u001b[43mz_max_collision\u001b[49m \u001b[38;5;66;03m# only consider the points which can have collision (here only on Z but can add conditions on X and Y )\u001b[39;00m\n\u001b[1;32m     88\u001b[0m \u001b[38;5;28;01mif\u001b[39;00m \u001b[38;5;129;01mnot\u001b[39;00m vox\u001b[38;5;241m.\u001b[39mdensity(position[mask]): \u001b[38;5;66;03m# if there is no density (no obstacle)\u001b[39;00m\n\u001b[1;32m     89\u001b[0m     current_vertex \u001b[38;5;241m=\u001b[39m (i, j , ind)  \u001b[38;5;66;03m#  name of the vertex\u001b[39;00m\n",
      "\u001b[0;31mNameError\u001b[0m: name 'z_max_collision' is not defined"
     ]
    }
   ],
   "source": [
    "\n",
    "debut = time.perf_counter()\n",
    "free_path= Free_path(vox, tool_path, voxels_head_print, theta , position_head_layer_circle,Circle, G, layer_vertex , z_max_collision)\n",
    "fin = time.perf_counter()\n",
    "print(fin-debut)"
   ]
  },
  {
   "cell_type": "markdown",
   "metadata": {},
   "source": [
    "# See results for the first point"
   ]
  },
  {
   "cell_type": "code",
   "execution_count": null,
   "metadata": {},
   "outputs": [],
   "source": [
    "free_path=free_path[1:-1]"
   ]
  },
  {
   "cell_type": "code",
   "execution_count": null,
   "metadata": {
    "scrolled": false
   },
   "outputs": [],
   "source": [
    "p=pv.Plotter()\n",
    "ele=free_path[0]\n",
    "position_rotate = position_head_layer_circle[ele[1]][ele[2]].copy()\n",
    "position_rotate = translation(position_rotate,tool_path[-1],tool_path[ele[0]])\n",
    "\n",
    "p.add_mesh(position_rotate, show_edges=False, color='blue')\n",
    "p.add_mesh(mesh_collision, color=True, show_edges=True, opacity=0.7)\n",
    "p.show()"
   ]
  },
  {
   "cell_type": "markdown",
   "metadata": {},
   "source": [
    "# With Slicing"
   ]
  },
  {
   "cell_type": "code",
   "execution_count": 13,
   "metadata": {},
   "outputs": [],
   "source": [
    "theta , theta_max = 10 , 50\n",
    "Circle=Vector_Creation(np.deg2rad(theta),np.deg2rad(theta_max))\n",
    "\n",
    "position_head_layer_circle = {i: [] for i in Circle }\n",
    "G = nx.DiGraph()\n",
    "tool_path = path.tool_path[5000:5001]\n",
    "num_layers = len(tool_path)\n",
    "layer_vertex = {i: [] for i in range(num_layers)}"
   ]
  },
  {
   "cell_type": "markdown",
   "metadata": {},
   "source": [
    "- Free_path_Slicing"
   ]
  },
  {
   "cell_type": "code",
   "execution_count": 14,
   "metadata": {},
   "outputs": [
    {
     "name": "stderr",
     "output_type": "stream",
     "text": [
      "100%|█████████████████████████████████████████████| 1/1 [00:01<00:00,  1.49s/it]"
     ]
    },
    {
     "name": "stdout",
     "output_type": "stream",
     "text": [
      "1.497209541965276\n"
     ]
    },
    {
     "name": "stderr",
     "output_type": "stream",
     "text": [
      "\n"
     ]
    },
    {
     "name": "stdout",
     "output_type": "stream",
     "text": [
      " JS Error => error: TypeError: Invalid mix of BigInt and other type in addition.\n"
     ]
    }
   ],
   "source": [
    "# collision_set_layer or collision_intersect_layer (this is the last parameter)\n",
    "                    \n",
    "debut = time.perf_counter()\n",
    "free_path= Free_path_Slicing(tool_path, voxels_head_print, voxels_collision_surface , theta , position_head_layer_circle,Circle, G, layer_vertex, collision_intersect_layer)\n",
    "fin = time.perf_counter()\n",
    "print(fin-debut)"
   ]
  },
  {
   "cell_type": "markdown",
   "metadata": {},
   "source": [
    "# Create video"
   ]
  },
  {
   "cell_type": "code",
   "execution_count": null,
   "metadata": {},
   "outputs": [],
   "source": [
    "import os\n",
    "from video import create_images , create_video"
   ]
  },
  {
   "cell_type": "code",
   "execution_count": null,
   "metadata": {},
   "outputs": [],
   "source": [
    "free_path_images = create_images(free_path,position_head_layer_circle,tool_path,mesh_collision)\n",
    "os.environ['IMAGEIO_FFMPEG_EXE'] = '/opt/homebrew/Cellar/ffmpeg/6.0/bin/ffmpeg'\n",
    "create_video(free_path_images, \"Object/animation.mp4\")"
   ]
  },
  {
   "cell_type": "markdown",
   "metadata": {},
   "source": [
    "# Parralelize code "
   ]
  },
  {
   "cell_type": "markdown",
   "metadata": {},
   "source": [
    "- the code is the same as the Free_path function I just created a function associated to the loop for the Circle"
   ]
  },
  {
   "cell_type": "code",
   "execution_count": 17,
   "metadata": {},
   "outputs": [],
   "source": [
    "from concurrent.futures import ThreadPoolExecutor\n",
    "from concurrent.futures import ProcessPoolExecutor\n",
    "def Free_path_parallelize_ThreadPool(vox, tool_path, surface, theta, position_head_layer_circle, Circle, G, layer_vertex , z_max_collision):\n",
    "    \n",
    "    num_layers = len(tool_path)\n",
    "    source = 's'\n",
    "    target = 't'\n",
    "\n",
    "    G.add_node(source)\n",
    "    G.add_node(target)\n",
    "        \n",
    "            \n",
    "    with ThreadPoolExecutor(8) as executor:\n",
    "        for i in tqdm(range(num_layers)):\n",
    "            if i > 0:\n",
    "                prev_layer = i - 1\n",
    "                prev_layer_vertices = layer_vertex[prev_layer]\n",
    "            else :\n",
    "                    #the else block doesn't help just to avoid errors \n",
    "                    prev_layer_vertices = source\n",
    "                    \n",
    "            iterations_args = [(delta, ind, j,G,theta,tool_path, position_head_layer_circle, layer_vertex, prev_layer_vertices, vox, surface, i, target, source , z_max_collision) for j in Circle for ind, delta in enumerate(np.rad2deg(Circle[j]))]\n",
    "\n",
    "            # Parallel calls to the Thread_iteration function\n",
    "            executor.map(Thread_iteration, iterations_args)\n",
    "\n",
    "            vox.voxels[tool_path[i][0], tool_path[i][1], tool_path[i][2]] = 1\n",
    "\n",
    "    shortest_path = nx.dijkstra_path(G, source, target)\n",
    "    return  shortest_path"
   ]
  },
  {
   "cell_type": "code",
   "execution_count": 18,
   "metadata": {},
   "outputs": [],
   "source": [
    "def Thread_iteration(args):\n",
    "    delta, ind, j,G,theta,tool_path, position_head_layer_circle, layer_vertex, prev_layer_vertices, vox, surface, i, target, source , z_max_collision= args\n",
    "    \n",
    "    \n",
    "    if i == 0:\n",
    "        position_rotate = rotation_mesh(surface, delta, j * theta)\n",
    "        position_rotate = np.floor(position_rotate.points).astype(int)\n",
    "        position_head_layer_circle[j].append(position_rotate)\n",
    "        position = translation(position_rotate, np.array([0, 0, 0]), tool_path[i])\n",
    "    else:\n",
    "        position_rotate = position_head_layer_circle[j][ind]\n",
    "        position = translation(position_rotate, tool_path[i - 1], tool_path[i])\n",
    "        \n",
    "    mask = position[:,2]<= z_max_collision\n",
    "        \n",
    "    if not vox.density(position[mask]):  \n",
    "        \n",
    "        current_vertex = (i, j, ind)  \n",
    "        G.add_node(current_vertex, angle_z=j * theta) \n",
    "        layer_vertex[i].append(current_vertex)  \n",
    "        if i > 0:\n",
    "            for prev_vertex in prev_layer_vertices: \n",
    "                angle = abs(G.nodes[prev_vertex]['angle_z'] - G.nodes[current_vertex]['angle_z'])\n",
    "                if angle <= theta:\n",
    "                    G.add_edge(prev_vertex, current_vertex, weight=angle)\n",
    "        if i == 0:\n",
    "            G.add_edge(source, current_vertex, weight=0)\n",
    "        if i == num_layers - 1:\n",
    "            G.add_edge(current_vertex, target, weight=0)"
   ]
  },
  {
   "cell_type": "markdown",
   "metadata": {},
   "source": [
    "# Slicing Code "
   ]
  },
  {
   "cell_type": "markdown",
   "metadata": {},
   "source": [
    "- the code is the same as the Free_path function I just changed the vox.density function to a function that tests the slicing "
   ]
  },
  {
   "cell_type": "code",
   "execution_count": 13,
   "metadata": {},
   "outputs": [],
   "source": [
    "def Free_path_Slicing(tool_path, surface, voxels_collision_surface, theta, position_head_layer_circle,Circle,G, layer_vertex , function):\n",
    "        num_layers = len(tool_path)\n",
    "        source = 's'\n",
    "        target = 't'\n",
    "        \n",
    "        G.add_node(source)\n",
    "        G.add_node(target)\n",
    "        \n",
    "        for i in tqdm(range(num_layers)):\n",
    "            if i > 0:\n",
    "                prev_layer = i - 1    # Récupérez les sommets de l'étage précédent\n",
    "                prev_layer_vertices = layer_vertex[prev_layer]\n",
    "\n",
    "            for j in Circle:\n",
    "                for ind, delta in enumerate(np.rad2deg(Circle[j])):\n",
    "                    \n",
    "                    if i == 0 :\n",
    "                        position_rotate = rotation_mesh(surface, delta,j*theta) \n",
    "                        position_rotate = np.floor(position_rotate.points).astype(int)\n",
    "                        position_head_layer_circle[j].append(position_rotate)\n",
    "                        position = translation(position_rotate,np.array([0,0,0]),tool_path[i])\n",
    "                    else :\n",
    "                        position_rotate = position_head_layer_circle[j][ind]\n",
    "                        position = translation(position_rotate,tool_path[i-1],tool_path[i])\n",
    "                        \n",
    "                    Coll = collision(position , voxels_collision_surface.points , function ) # collision_set_layer or collision_intersect_layer\n",
    "                   \n",
    "                    if not Coll: # s'il n'y a pas de desnité (pas d'obstacle)\n",
    "                        current_vertex = (i, j , ind)  #  name of the vertex\n",
    "                        G.add_node(current_vertex, angle_z=j*theta) # creer le sommet white atribute \n",
    "                        layer_vertex[i].append(current_vertex)  # Ajoute les sommets aux listes d'étages\n",
    "                        if i > 0:\n",
    "                            for prev_vertex in prev_layer_vertices: # creer des liaison entre les etages si la condition angulaire est respécté\n",
    "                                angle = abs(G.nodes[prev_vertex]['angle_z']-G.nodes[current_vertex]['angle_z'])\n",
    "                                if angle <= theta:\n",
    "                                    G.add_edge(prev_vertex, current_vertex, weight=angle)\n",
    "                        if i == 0:\n",
    "                            G.add_edge(source, current_vertex, weight=0)\n",
    "                        if i == num_layers-1:\n",
    "                            G.add_edge(current_vertex,target ,weight=0)\n",
    "                            \n",
    "            vox.voxels[tool_path[i][0],tool_path[i][1],tool_path[i][2]]=1\n",
    "\n",
    "\n",
    "       \n",
    "        shortest_path = nx.dijkstra_path(G, source, target)\n",
    "        \n",
    "        return shortest_path "
   ]
  },
  {
   "cell_type": "code",
   "execution_count": null,
   "metadata": {},
   "outputs": [],
   "source": []
  }
 ],
 "metadata": {
  "kernelspec": {
   "display_name": "Python 3 (ipykernel)",
   "language": "python",
   "name": "python3"
  },
  "language_info": {
   "codemirror_mode": {
    "name": "ipython",
    "version": 3
   },
   "file_extension": ".py",
   "mimetype": "text/x-python",
   "name": "python",
   "nbconvert_exporter": "python",
   "pygments_lexer": "ipython3",
   "version": "3.10.10"
  }
 },
 "nbformat": 4,
 "nbformat_minor": 2
}
