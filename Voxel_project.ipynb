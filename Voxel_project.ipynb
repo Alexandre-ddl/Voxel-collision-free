{
 "cells": [
  {
   "cell_type": "code",
   "execution_count": 1,
   "metadata": {},
   "outputs": [],
   "source": [
    "import pyvista as pv  # used to create voxel\n",
    "import numpy as np \n",
    "import math  \n",
    "import trame # used to create figures with pyvista \n",
    "import networkx as nx # used for graph\n",
    "import time # used to see the time\n",
    "\n",
    "\n",
    "from tqdm import tqdm\n",
    "from Voxel_model import Voxels\n",
    "from Path_create import Create_Path\n",
    "from creation_vector import Vector_Creation\n",
    "from mesh_tools import centrer_0xy , rotation_mesh , midle_xy ,translation\n",
    "\n",
    "from Free_path import Free_path\n",
    "from Slicing import collision , collision_set_layer , collision_intersect_layer\n",
    "\n",
    "# import trimesh\n",
    "# import pyvox\n",
    "# import pyvoxsurf"
   ]
  },
  {
   "cell_type": "markdown",
   "metadata": {},
   "source": [
    "# Test Path"
   ]
  },
  {
   "cell_type": "markdown",
   "metadata": {},
   "source": [
    "Here : \n",
    "\n",
    ">- I create the path\n",
    ">- I center it to the collision object\n",
    ">- I load and center the collision object\n",
    ">- I visualize the whole"
   ]
  },
  {
   "cell_type": "code",
   "execution_count": 2,
   "metadata": {},
   "outputs": [
    {
     "data": {
      "application/vnd.jupyter.widget-view+json": {
       "model_id": "dee92b109c8042568ef7ed427016c6d6",
       "version_major": 2,
       "version_minor": 0
      },
      "text/plain": [
       "Widget(value=\"<iframe src='http://localhost:61271/index.html?ui=P_0x10779dc30_0&reconnect=auto' style='width: …"
      ]
     },
     "metadata": {},
     "output_type": "display_data"
    }
   ],
   "source": [
    "path = Create_Path('Object//UM3E_Copy of Cube Extruder (3).gcode') \n",
    "path.read_gcode(12)\n",
    "\n",
    "Collision = Create_Path('Object//UM3E_collision.gcode')\n",
    "Collision.read_gcode(11)\n",
    "path.centrer(Collision.tool_path)\n",
    "\n",
    "mesh_collision = centrer_0xy('Object/collision.stl')\n",
    "\n",
    "path.figure(mesh_collision)"
   ]
  },
  {
   "cell_type": "markdown",
   "metadata": {},
   "source": [
    "# From STL to Voxel"
   ]
  },
  {
   "cell_type": "markdown",
   "metadata": {},
   "source": [
    "Here : \n",
    "\n",
    ">- I create the voxel model\n",
    ">- I voxelize the the collision object \n",
    ">- I scale the mesh and voxels by dividing it by the voxel size\n",
    ">- I scale the path coordinates in the voxel base (path.correction)\n",
    ">- I translate everything to the center of the voxel model to avoid overflows \n",
    ">- I visualize the whole\n",
    "    "
   ]
  },
  {
   "cell_type": "code",
   "execution_count": 3,
   "metadata": {},
   "outputs": [],
   "source": [
    "scale_voxel = 0.5\n",
    "scale_print= 500\n",
    "vox = Voxels(scale_print,scale_voxel)"
   ]
  },
  {
   "cell_type": "code",
   "execution_count": 4,
   "metadata": {},
   "outputs": [],
   "source": [
    "voxels_collision = pv.voxelize(mesh_collision, density=scale_voxel, check_surface=False)\n",
    "voxels_collision.points = np.divide(voxels_collision.points,scale_voxel).astype(int)\n",
    "mesh_collision.points = np.divide(mesh_collision.points,scale_voxel).astype(int)"
   ]
  },
  {
   "cell_type": "code",
   "execution_count": 5,
   "metadata": {
    "scrolled": false
   },
   "outputs": [
    {
     "name": "stderr",
     "output_type": "stream",
     "text": [
      "/Library/Frameworks/Python.framework/Versions/3.10/lib/python3.10/site-packages/pyvista/utilities/helpers.py:507: UserWarning: Points is not a float type. This can cause issues when transforming or applying filters. Casting to ``np.float32``. Disable this by passing ``force_float=False``.\n",
      "  warnings.warn(\n"
     ]
    },
    {
     "data": {
      "application/vnd.jupyter.widget-view+json": {
       "model_id": "1d5b109b92554e07b9f611b60963c140",
       "version_major": 2,
       "version_minor": 0
      },
      "text/plain": [
       "Widget(value=\"<iframe src='http://localhost:61271/index.html?ui=P_0x1077c6440_1&reconnect=auto' style='width: …"
      ]
     },
     "metadata": {},
     "output_type": "display_data"
    },
    {
     "name": "stdout",
     "output_type": "stream",
     "text": [
      " JS Error => error: TypeError: Invalid mix of BigInt and other type in multiplication.\n"
     ]
    }
   ],
   "source": [
    "path.correction(vox.scale_voxel)\n",
    "\n",
    "centre = midle_xy(voxels_collision)\n",
    "voxels_collision.points = translation(voxels_collision.points,centre,vox.midle)\n",
    "mesh_collision.points = translation(mesh_collision.points,centre,vox.midle)\n",
    "path.translat(centre,vox.midle)\n",
    "\n",
    "path.figure(mesh_collision)"
   ]
  },
  {
   "cell_type": "markdown",
   "metadata": {},
   "source": [
    "Here : \n",
    "\n",
    ">- I read the file of the print head\n",
    ">- I voxelize it\n",
    ">- I scale the mesh and voxels by dividing it by the voxel size\n",
    ">- I extract the surface voxels for the print head and the collision object\n",
    ">- I raise the tool 6 mm above each point \n",
    ">- I add density in the voxel model "
   ]
  },
  {
   "cell_type": "code",
   "execution_count": 6,
   "metadata": {},
   "outputs": [
    {
     "name": "stdout",
     "output_type": "stream",
     "text": [
      "29.013646667008288\n"
     ]
    }
   ],
   "source": [
    "mesh_head_print=  pv.read('Object/Deposition Head.stl')\n",
    "debut = time.perf_counter()\n",
    "voxels_head_print = pv.voxelize(mesh_head_print, density=scale_voxel, check_surface=False)\n",
    "fin = time.perf_counter()\n",
    "print(fin-debut)\n",
    "voxels_head_print.points = np.divide(voxels_head_print.points,vox.scale_voxel).astype(int)\n",
    "mesh_head_print.points = np.divide(mesh_head_print.points,vox.scale_voxel).astype(int)"
   ]
  },
  {
   "cell_type": "code",
   "execution_count": 7,
   "metadata": {},
   "outputs": [],
   "source": [
    "voxels_collision_surface = voxels_collision.extract_surface()\n",
    "voxels_head_print = voxels_head_print.extract_surface()\n",
    "voxels_head_print.points[:,2]+=int(6/vox.scale_voxel)"
   ]
  },
  {
   "cell_type": "code",
   "execution_count": 24,
   "metadata": {},
   "outputs": [],
   "source": [
    "vox.add_density(voxels_collision.points)"
   ]
  },
  {
   "cell_type": "markdown",
   "metadata": {},
   "source": [
    "# Tool Vectors"
   ]
  },
  {
   "cell_type": "markdown",
   "metadata": {},
   "source": [
    "Here : \n",
    "\n",
    ">  - functions and variables explained in python files "
   ]
  },
  {
   "cell_type": "code",
   "execution_count": 30,
   "metadata": {},
   "outputs": [],
   "source": [
    "theta , theta_max = 10 , 50\n",
    "Circle=Vector_Creation(np.deg2rad(theta),np.deg2rad(theta_max))\n",
    "\n",
    "position_head_layer_circle = {i: [] for i in Circle }\n",
    "G = nx.DiGraph()\n",
    "tool_path = path.tool_path[5000:5002] # you can increase the number of test points on the path\n",
    "num_layers = len(tool_path)\n",
    "layer_vertex = {i: [] for i in range(num_layers)}\n",
    "z_max_collision = voxels_collision_surface.points[:,2].max()"
   ]
  },
  {
   "cell_type": "markdown",
   "metadata": {},
   "source": [
    "# Free Path generation"
   ]
  },
  {
   "cell_type": "markdown",
   "metadata": {},
   "source": [
    ">> before launching each Free_Path function you have to restart the Tool Vector code to reset the parameters and launch functions at the end of the program : Paralelize code and Slicing code"
   ]
  },
  {
   "cell_type": "markdown",
   "metadata": {},
   "source": [
    "- Free_path_parallelize_ThreadPool"
   ]
  },
  {
   "cell_type": "code",
   "execution_count": 26,
   "metadata": {},
   "outputs": [
    {
     "name": "stderr",
     "output_type": "stream",
     "text": [
      "100%|█████████████████████████████████████████████| 2/2 [00:00<00:00, 34.75it/s]\n"
     ]
    },
    {
     "name": "stdout",
     "output_type": "stream",
     "text": [
      "0.35555104189552367\n"
     ]
    }
   ],
   "source": [
    "debut = time.perf_counter()\n",
    "free_path= Free_path_parallelize_ThreadPool(vox, tool_path, voxels_head_print, theta , position_head_layer_circle,Circle, G, layer_vertex , z_max_collision )\n",
    "fin = time.perf_counter()\n",
    "print(fin-debut)"
   ]
  },
  {
   "cell_type": "markdown",
   "metadata": {},
   "source": [
    "- Free_path"
   ]
  },
  {
   "cell_type": "code",
   "execution_count": 31,
   "metadata": {},
   "outputs": [
    {
     "name": "stderr",
     "output_type": "stream",
     "text": [
      "100%|█████████████████████████████████████████████| 2/2 [00:00<00:00,  2.92it/s]"
     ]
    },
    {
     "name": "stdout",
     "output_type": "stream",
     "text": [
      "0.6880119580309838\n"
     ]
    },
    {
     "name": "stderr",
     "output_type": "stream",
     "text": [
      "\n"
     ]
    }
   ],
   "source": [
    "\n",
    "debut = time.perf_counter()\n",
    "free_path= Free_path(vox, tool_path, voxels_head_print, theta , position_head_layer_circle,Circle, G, layer_vertex , z_max_collision)\n",
    "fin = time.perf_counter()\n",
    "print(fin-debut)"
   ]
  },
  {
   "cell_type": "markdown",
   "metadata": {},
   "source": [
    "# See results for the first point"
   ]
  },
  {
   "cell_type": "code",
   "execution_count": 41,
   "metadata": {},
   "outputs": [],
   "source": [
    "free_path=free_path[1:-1]"
   ]
  },
  {
   "cell_type": "code",
   "execution_count": 42,
   "metadata": {
    "scrolled": false
   },
   "outputs": [
    {
     "name": "stderr",
     "output_type": "stream",
     "text": [
      "/Library/Frameworks/Python.framework/Versions/3.10/lib/python3.10/site-packages/pyvista/utilities/helpers.py:507: UserWarning: Points is not a float type. This can cause issues when transforming or applying filters. Casting to ``np.float32``. Disable this by passing ``force_float=False``.\n",
      "  warnings.warn(\n"
     ]
    },
    {
     "data": {
      "application/vnd.jupyter.widget-view+json": {
       "model_id": "11b794eb8af04cc1bf60f5b82d92357a",
       "version_major": 2,
       "version_minor": 0
      },
      "text/plain": [
       "Widget(value=\"<iframe src='http://localhost:61271/index.html?ui=P_0x1405b0a30_9&reconnect=auto' style='width: …"
      ]
     },
     "metadata": {},
     "output_type": "display_data"
    },
    {
     "name": "stdout",
     "output_type": "stream",
     "text": [
      " JS Error => error: TypeError: Invalid mix of BigInt and other type in multiplication.\n"
     ]
    }
   ],
   "source": [
    "p=pv.Plotter()\n",
    "ele=free_path[0]\n",
    "position_rotate = position_head_layer_circle[ele[1]][ele[2]].copy()\n",
    "position_rotate = translation(position_rotate,tool_path[-1],tool_path[ele[0]])\n",
    "\n",
    "p.add_mesh(position_rotate, show_edges=False, color='blue')\n",
    "p.add_mesh(mesh_collision, color=True, show_edges=True, opacity=0.7)\n",
    "p.show()"
   ]
  },
  {
   "cell_type": "markdown",
   "metadata": {},
   "source": [
    "# With Slicing"
   ]
  },
  {
   "cell_type": "code",
   "execution_count": 43,
   "metadata": {},
   "outputs": [],
   "source": [
    "theta , theta_max = 10 , 50\n",
    "Circle=Vector_Creation(np.deg2rad(theta),np.deg2rad(theta_max))\n",
    "\n",
    "position_head_layer_circle = {i: [] for i in Circle }\n",
    "G = nx.DiGraph()\n",
    "tool_path = path.tool_path[5000:5001]\n",
    "num_layers = len(tool_path)\n",
    "layer_vertex = {i: [] for i in range(num_layers)}"
   ]
  },
  {
   "cell_type": "markdown",
   "metadata": {},
   "source": [
    "- Free_path_Slicing"
   ]
  },
  {
   "cell_type": "code",
   "execution_count": 40,
   "metadata": {},
   "outputs": [
    {
     "name": "stderr",
     "output_type": "stream",
     "text": [
      "100%|█████████████████████████████████████████████| 1/1 [00:05<00:00,  5.96s/it]"
     ]
    },
    {
     "name": "stdout",
     "output_type": "stream",
     "text": [
      "5.968755958019756\n"
     ]
    },
    {
     "name": "stderr",
     "output_type": "stream",
     "text": [
      "\n"
     ]
    }
   ],
   "source": [
    "# collision_set_layer or collision_intersect_layer (this is the last parameter)\n",
    "                    \n",
    "debut = time.perf_counter()                                                                                                                      # \n",
    "free_path= Free_path_Slicing(tool_path, voxels_head_print, voxels_collision_surface , theta , position_head_layer_circle,Circle, G, layer_vertex, collision_set_layer)\n",
    "fin = time.perf_counter()\n",
    "print(fin-debut)"
   ]
  },
  {
   "cell_type": "markdown",
   "metadata": {},
   "source": [
    "# Create video"
   ]
  },
  {
   "cell_type": "code",
   "execution_count": null,
   "metadata": {},
   "outputs": [],
   "source": [
    "import os\n",
    "from video import create_images , create_video"
   ]
  },
  {
   "cell_type": "code",
   "execution_count": null,
   "metadata": {},
   "outputs": [],
   "source": [
    "free_path_images = create_images(free_path,position_head_layer_circle,tool_path,mesh_collision)\n",
    "os.environ['IMAGEIO_FFMPEG_EXE'] = '/opt/homebrew/Cellar/ffmpeg/6.0/bin/ffmpeg'\n",
    "create_video(free_path_images, \"Object/animation.mp4\")"
   ]
  },
  {
   "cell_type": "markdown",
   "metadata": {},
   "source": [
    "# Parralelize code "
   ]
  },
  {
   "cell_type": "markdown",
   "metadata": {},
   "source": [
    "- the code is the same as the Free_path function I just created a function associated to the loop for the Circle"
   ]
  },
  {
   "cell_type": "code",
   "execution_count": 10,
   "metadata": {},
   "outputs": [],
   "source": [
    "from concurrent.futures import ThreadPoolExecutor\n",
    "from concurrent.futures import ProcessPoolExecutor\n",
    "def Free_path_parallelize_ThreadPool(vox, tool_path, surface, theta, position_head_layer_circle, Circle, G, layer_vertex , z_max_collision):\n",
    "    \n",
    "    num_layers = len(tool_path)\n",
    "    source = 's'\n",
    "    target = 't'\n",
    "\n",
    "    G.add_node(source)\n",
    "    G.add_node(target)\n",
    "        \n",
    "            \n",
    "    with ThreadPoolExecutor(8) as executor:\n",
    "        for i in tqdm(range(num_layers)):\n",
    "            if i > 0:\n",
    "                prev_layer = i - 1\n",
    "                prev_layer_vertices = layer_vertex[prev_layer]\n",
    "            else :\n",
    "                    #the else block doesn't help just to avoid errors \n",
    "                    prev_layer_vertices = source\n",
    "                    \n",
    "            iterations_args = [(delta, ind, j,G,theta,tool_path, position_head_layer_circle, layer_vertex, prev_layer_vertices, vox, surface, i, target, source , z_max_collision) for j in Circle for ind, delta in enumerate(np.rad2deg(Circle[j]))]\n",
    "\n",
    "            # Parallel calls to the Thread_iteration function\n",
    "            executor.map(Thread_iteration, iterations_args)\n",
    "\n",
    "            vox.voxels[tool_path[i][0], tool_path[i][1], tool_path[i][2]] = 1\n",
    "\n",
    "    shortest_path = nx.dijkstra_path(G, source, target)\n",
    "    return  shortest_path"
   ]
  },
  {
   "cell_type": "code",
   "execution_count": 11,
   "metadata": {},
   "outputs": [],
   "source": [
    "def Thread_iteration(args):\n",
    "    delta, ind, j,G,theta,tool_path, position_head_layer_circle, layer_vertex, prev_layer_vertices, vox, surface, i, target, source , z_max_collision= args\n",
    "    \n",
    "    \n",
    "    if i == 0:\n",
    "        position_rotate = rotation_mesh(surface, delta, j * theta)\n",
    "        position_rotate = np.floor(position_rotate.points).astype(int)\n",
    "        position_head_layer_circle[j].append(position_rotate)\n",
    "        position = translation(position_rotate, np.array([0, 0, 0]), tool_path[i])\n",
    "    else:\n",
    "        position_rotate = position_head_layer_circle[j][ind]\n",
    "        position = translation(position_rotate, tool_path[i - 1], tool_path[i])\n",
    "        \n",
    "    mask = position[:,2]<= z_max_collision\n",
    "        \n",
    "    if not vox.density(position[mask]):  \n",
    "        \n",
    "        current_vertex = (i, j, ind)  \n",
    "        G.add_node(current_vertex, angle_z=j * theta) \n",
    "        layer_vertex[i].append(current_vertex)  \n",
    "        if i > 0:\n",
    "            for prev_vertex in prev_layer_vertices: \n",
    "                angle = abs(G.nodes[prev_vertex]['angle_z'] - G.nodes[current_vertex]['angle_z'])\n",
    "                if angle <= theta:\n",
    "                    G.add_edge(prev_vertex, current_vertex, weight=angle)\n",
    "        if i == 0:\n",
    "            G.add_edge(source, current_vertex, weight=0)\n",
    "        if i == num_layers - 1:\n",
    "            G.add_edge(current_vertex, target, weight=0)"
   ]
  },
  {
   "cell_type": "markdown",
   "metadata": {},
   "source": [
    "# Slicing Code "
   ]
  },
  {
   "cell_type": "markdown",
   "metadata": {},
   "source": [
    "- the code is the same as the Free_path function I just changed the vox.density function to a function that tests the slicing "
   ]
  },
  {
   "cell_type": "code",
   "execution_count": 38,
   "metadata": {},
   "outputs": [],
   "source": [
    "def Free_path_Slicing(tool_path, surface, collision_surface, theta, position_head_layer_circle,Circle,G, layer_vertex , function):\n",
    "        num_layers = len(tool_path)\n",
    "        source = 's'\n",
    "        target = 't'\n",
    "        \n",
    "        G.add_node(source)\n",
    "        G.add_node(target)\n",
    "        \n",
    "        for i in tqdm(range(num_layers)):\n",
    "            if i > 0:\n",
    "                prev_layer = i - 1    # Récupérez les sommets de l'étage précédent\n",
    "                prev_layer_vertices = layer_vertex[prev_layer]\n",
    "\n",
    "            for j in Circle:\n",
    "                for ind, delta in enumerate(np.rad2deg(Circle[j])):\n",
    "                    \n",
    "                    if i == 0 :\n",
    "                        position_rotate = rotation_mesh(surface, delta,j*theta) \n",
    "                        position_rotate = np.floor(position_rotate.points).astype(int)\n",
    "                        position_head_layer_circle[j].append(position_rotate)\n",
    "                        position = translation(position_rotate,np.array([0,0,0]),tool_path[i])\n",
    "                    else :\n",
    "                        position_rotate = position_head_layer_circle[j][ind]\n",
    "                        position = translation(position_rotate,tool_path[i-1],tool_path[i])\n",
    "                        \n",
    "                    Coll = collision(position , collision_surface.points , function ) # collision_set_layer or collision_intersect_layer\n",
    "                   \n",
    "                    if not Coll: # s'il n'y a pas de desnité (pas d'obstacle)\n",
    "                        current_vertex = (i, j , ind)  #  name of the vertex\n",
    "                        G.add_node(current_vertex, angle_z=j*theta) # creer le sommet white atribute \n",
    "                        layer_vertex[i].append(current_vertex)  # Ajoute les sommets aux listes d'étages\n",
    "                        if i > 0:\n",
    "                            for prev_vertex in prev_layer_vertices: # creer des liaison entre les etages si la condition angulaire est respécté\n",
    "                                angle = abs(G.nodes[prev_vertex]['angle_z']-G.nodes[current_vertex]['angle_z'])\n",
    "                                if angle <= theta:\n",
    "                                    G.add_edge(prev_vertex, current_vertex, weight=angle)\n",
    "                        if i == 0:\n",
    "                            G.add_edge(source, current_vertex, weight=0)\n",
    "                        if i == num_layers-1:\n",
    "                            G.add_edge(current_vertex,target ,weight=0)\n",
    "                            \n",
    "            vox.voxels[tool_path[i][0],tool_path[i][1],tool_path[i][2]]=1\n",
    "\n",
    "\n",
    "       \n",
    "        shortest_path = nx.dijkstra_path(G, source, target)\n",
    "        \n",
    "        return shortest_path "
   ]
  },
  {
   "cell_type": "code",
   "execution_count": null,
   "metadata": {},
   "outputs": [],
   "source": []
  }
 ],
 "metadata": {
  "kernelspec": {
   "display_name": "Python 3 (ipykernel)",
   "language": "python",
   "name": "python3"
  },
  "language_info": {
   "codemirror_mode": {
    "name": "ipython",
    "version": 3
   },
   "file_extension": ".py",
   "mimetype": "text/x-python",
   "name": "python",
   "nbconvert_exporter": "python",
   "pygments_lexer": "ipython3",
   "version": "3.10.10"
  }
 },
 "nbformat": 4,
 "nbformat_minor": 2
}
