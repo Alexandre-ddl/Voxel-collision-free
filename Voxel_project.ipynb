{
 "cells": [
  {
   "cell_type": "code",
   "execution_count": 99,
   "metadata": {},
   "outputs": [],
   "source": [
    "import pyvista as pv\n",
    "import numpy as np\n",
    "import math  "
   ]
  },
  {
   "attachments": {},
   "cell_type": "markdown",
   "metadata": {},
   "source": [
    "# From CAD to VOXEL"
   ]
  },
  {
   "cell_type": "code",
   "execution_count": 100,
   "metadata": {},
   "outputs": [
    {
     "data": {
      "text/plain": [
       "pyvista_ndarray([[ 7, 11,  0],\n",
       "                 [ 7, 12,  0],\n",
       "                 [ 7, 12,  1],\n",
       "                 ...,\n",
       "                 [19, 12, 25],\n",
       "                 [19, 13, 25],\n",
       "                 [19, 14, 25]])"
      ]
     },
     "execution_count": 100,
     "metadata": {},
     "output_type": "execute_result"
    }
   ],
   "source": [
    "Path = 'Object\\sphere.stl'\n",
    "mesh = pv.read(Path)\n",
    "\n",
    "x_min, x_max, y_min, y_max, z_min, z_max = mesh.bounds\n",
    "\n",
    "scale_print= max(x_max - x_min,y_max - y_min,z_max - z_min)\n",
    "# print(mesh.length)  diagonal\n",
    "scale_voxel=0.1\n",
    "\n",
    "voxels = pv.voxelize(mesh, density=scale_voxel, check_surface=False)\n",
    "\n",
    "surface = voxels.extract_surface()\n",
    "surface_points = surface.points\n",
    "surface_points -= np.array([x_min,y_min,z_min]) \n",
    "surface_points = np.divide(surface_points, scale_voxel).astype(int)\n",
    "surface_points"
   ]
  },
  {
   "attachments": {},
   "cell_type": "markdown",
   "metadata": {},
   "source": [
    "# VOXEL model"
   ]
  },
  {
   "cell_type": "code",
   "execution_count": 101,
   "metadata": {},
   "outputs": [],
   "source": [
    "class Voxels():\n",
    "    \n",
    "    def __init__(self, scale_print, scale_voxel):\n",
    "        \n",
    "        self.scale_print = scale_print\n",
    "        self.scale_voxel = scale_voxel\n",
    "\n",
    "        self.nb_voxels = math.ceil(scale_print/scale_voxel)\n",
    "        \n",
    "        self.voxels = np.zeros((self.nb_voxels,self.nb_voxels,self.nb_voxels))\n",
    "\n",
    "    def Voxelise_object(self,object):\n",
    "        Path = object\n",
    "        mesh = pv.read(Path)\n",
    "\n",
    "        x_min, x_max, y_min, y_max, z_min, z_max = mesh.bounds\n",
    "\n",
    "        voxels = pv.voxelize(mesh, density=self.scale_voxel, check_surface=False)\n",
    "\n",
    "        surface = voxels.extract_surface()\n",
    "        surface_points = surface.points\n",
    "        surface_points -= np.array([x_min,y_min,z_min]) \n",
    "        surface_points = np.divide(surface_points, scale_voxel).astype(int)\n",
    "        return surface_points\n",
    "\n",
    "    def add_density(self, coord):\n",
    "\n",
    "        self.voxels[coord[:,0],coord[:,1],coord[:,2]]=1\n",
    "\n",
    "    def substracted_density(self,coord):\n",
    "        \n",
    "        self.voxels[coord[:,0],coord[:,1],coord[:,2]]=0\n",
    "\n",
    "    def density(self, coord):\n",
    "        density_bool = self.voxels[coord[:,0],coord[:,1],coord[:,2]]==1\n",
    "        return not np.any(~density_bool)\n",
    "    \n",
    "\n",
    "    def move_object_translation(self, object, position_ini, position_fin, scale=True):  \n",
    "        # scale : In the good referential\n",
    "        object = object.astype(np.float64)\n",
    "        object += (position_fin - position_ini)*(self.scale_voxel*(1-scale)+scale)\n",
    "\n",
    "        if  not scale :          # correction move to be affected at the good voxel\n",
    "            return np.floor(object).astype(int)\n",
    "        return object.astype(int)\n",
    "    \n",
    "\n",
    "    def move_object_rotation(self, object, phi, theta):\n",
    "        \n",
    "        object= rot_theta = np.array([np.cos(theta), -np.sin(theta)],\n",
    "                                      [-np.sin(theta), -np.cos(theta)]) @ object.T\n",
    "        rot = np.eye(3)\n",
    "        # # Y - > z vers x\n",
    "        rot_phi = np.array([[np.cos(phi), 0, np.sin(phi)],\n",
    "                            [0, 1, 0],\n",
    "                            [-np.sin(phi), 0, np.cos(phi)]])\n",
    "        rot = rot_phi @ rot\n",
    "\n",
    "        # Z -> x vers y\n",
    "        rot_theta = np.array([[np.cos(theta), -np.sin(theta), 0],\n",
    "                            [-np.sin(theta), -np.cos(theta), 0],\n",
    "                            [0, 0, 1]])\n",
    "        rot = rot_theta @ rot\n",
    "\n",
    "        object_rot = rot @ object.T\n",
    "        return np.floor(object_rot).astype(int).T\n",
    "\n"
   ]
  },
  {
   "cell_type": "code",
   "execution_count": 102,
   "metadata": {},
   "outputs": [
    {
     "data": {
      "text/plain": [
       "(26, 26, 26)"
      ]
     },
     "execution_count": 102,
     "metadata": {},
     "output_type": "execute_result"
    }
   ],
   "source": [
    "voxel=Voxels(scale_print,scale_voxel)\n",
    "voxel.voxels.shape"
   ]
  },
  {
   "cell_type": "code",
   "execution_count": 104,
   "metadata": {},
   "outputs": [
    {
     "data": {
      "text/plain": [
       "True"
      ]
     },
     "execution_count": 104,
     "metadata": {},
     "output_type": "execute_result"
    }
   ],
   "source": [
    "voxel.add_density(surface_points)\n",
    "voxel.density(surface_points)"
   ]
  },
  {
   "cell_type": "code",
   "execution_count": 105,
   "metadata": {},
   "outputs": [
    {
     "data": {
      "application/vnd.jupyter.widget-view+json": {
       "model_id": "90ccef98015f4ac29f4622ed5d637704",
       "version_major": 2,
       "version_minor": 0
      },
      "text/plain": [
       "Widget(value=\"<iframe src='http://localhost:63938/index.html?ui=P_0x1f4023cde10_0&reconnect=auto' style='width…"
      ]
     },
     "metadata": {},
     "output_type": "display_data"
    }
   ],
   "source": [
    "p = pv.Plotter()\n",
    "p.add_mesh(surface, color=True, show_edges=True, opacity=0.5)\n",
    "p.show()\n"
   ]
  },
  {
   "attachments": {},
   "cell_type": "markdown",
   "metadata": {},
   "source": [
    "# Change of position"
   ]
  },
  {
   "attachments": {},
   "cell_type": "markdown",
   "metadata": {},
   "source": [
    "-Translation test"
   ]
  },
  {
   "cell_type": "code",
   "execution_count": 23,
   "metadata": {},
   "outputs": [
    {
     "data": {
      "text/plain": [
       "pyvista_ndarray([[ 7, 11,  0],\n",
       "                 [ 7, 12,  0],\n",
       "                 [ 7, 12,  1],\n",
       "                 ...,\n",
       "                 [19, 12, 25],\n",
       "                 [19, 13, 25],\n",
       "                 [19, 14, 25]])"
      ]
     },
     "execution_count": 23,
     "metadata": {},
     "output_type": "execute_result"
    }
   ],
   "source": [
    "object = surface_points\n",
    "position_ini=np.array([ 7, 11,  0])\n",
    "position_fin=np.array([0, 0, 0])\n",
    "object"
   ]
  },
  {
   "cell_type": "code",
   "execution_count": 24,
   "metadata": {},
   "outputs": [
    {
     "data": {
      "text/plain": [
       "pyvista_ndarray([[ 0,  0,  0],\n",
       "                 [ 0,  1,  0],\n",
       "                 [ 0,  1,  1],\n",
       "                 ...,\n",
       "                 [12,  1, 25],\n",
       "                 [12,  2, 25],\n",
       "                 [12,  3, 25]])"
      ]
     },
     "execution_count": 24,
     "metadata": {},
     "output_type": "execute_result"
    }
   ],
   "source": [
    "voxel.move_object_translation(object,position_ini,position_fin)"
   ]
  },
  {
   "attachments": {},
   "cell_type": "markdown",
   "metadata": {},
   "source": [
    "-Rotation test"
   ]
  },
  {
   "cell_type": "code",
   "execution_count": 31,
   "metadata": {},
   "outputs": [],
   "source": [
    "def move_object_rotation_2(object, phi_ini,delta_phi, theta_ini, delta_theta):\n",
    "\n",
    "    rot = np.array([[np.cos(delta_theta)*np.cos(delta_phi), -np.cos(delta_theta)*np.sin(delta_phi), np.sin(delta_theta)*np.cos(delta_phi+phi_ini)],\n",
    "                    [-np.sin(phi_ini)*np.cos(delta_theta), np.cos(phi_ini)*np.cos(delta_theta), -np.sin(delta_theta)*np.sin(phi_ini-delta_phi)],\n",
    "                    [0, 0, np.cos(delta_theta)]])\n",
    "    \n",
    "    vect=np.array([0,0,np.sin(theta_ini)*np.sin(delta_theta)])\n",
    "    object_rot = rot @ object.T - vect.T\n",
    "    return np.floor(object_rot).astype(int).T"
   ]
  },
  {
   "attachments": {},
   "cell_type": "markdown",
   "metadata": {},
   "source": [
    "theta [0 , pi]\n",
    "phi [0, 2pi]"
   ]
  },
  {
   "cell_type": "code",
   "execution_count": 36,
   "metadata": {},
   "outputs": [
    {
     "data": {
      "text/plain": [
       "array([ 0,  0, -1])"
      ]
     },
     "execution_count": 36,
     "metadata": {},
     "output_type": "execute_result"
    }
   ],
   "source": [
    "phi_ini,delta_phi, theta_ini, delta_theta = 0 , 0 , np.pi/2 , np.pi/2\n",
    "point_rotate= move_object_rotation_2(np.array([1, 0, 0]),phi_ini,delta_phi, theta_ini, delta_theta) \n",
    "point_rotate"
   ]
  },
  {
   "cell_type": "code",
   "execution_count": 81,
   "metadata": {},
   "outputs": [],
   "source": [
    "def move_object_rotation(object, phi, theta):\n",
    "        \n",
    "        object= np.array([[np.cos(theta), -np.sin(theta), 0],\n",
    "                          [-np.sin(theta), -np.cos(theta), 0],\n",
    "                          [0, 0, 1]])   @ object.T\n",
    "        rot = np.eye(3)\n",
    "        # # Y - > z vers x\n",
    "        rot_phi = np.array([[np.cos(phi), 0, np.sin(phi)],\n",
    "                            [0, 1, 0],\n",
    "                            [-np.sin(phi), 0, np.cos(phi)]])\n",
    "        rot = rot_phi @ rot\n",
    "\n",
    "        # Z -> x vers y\n",
    "        rot_theta = np.array([[np.cos(theta), -np.sin(theta), 0],\n",
    "                            [-np.sin(theta), -np.cos(theta), 0],\n",
    "                            [0, 0, 1]])\n",
    "        rot = rot_theta @ rot\n",
    "\n",
    "        object_rot = rot @ object.T\n",
    "        return np.floor(object_rot).astype(int).T"
   ]
  },
  {
   "cell_type": "code",
   "execution_count": 85,
   "metadata": {},
   "outputs": [],
   "source": [
    "theta = np.radians(0)\n",
    "phi = np.radians(80)\n",
    "point = np.array([[0, 0, 1],\n",
    "                  [0, 1, 0],\n",
    "                  [1, 0, 0],])"
   ]
  },
  {
   "cell_type": "code",
   "execution_count": 83,
   "metadata": {},
   "outputs": [
    {
     "data": {
      "text/plain": [
       "array([[ 1,  0,  0],\n",
       "       [ 0,  0, -1],\n",
       "       [ 0, -1,  0]])"
      ]
     },
     "execution_count": 83,
     "metadata": {},
     "output_type": "execute_result"
    }
   ],
   "source": [
    "point_rotate= move_object_rotation(point,phi, theta)  \n",
    "# [[0, 0, 1],\n",
    "#  [0, 1, 0],\n",
    "#  [1, 0, 0],])\n",
    "point_rotate"
   ]
  },
  {
   "cell_type": "code",
   "execution_count": 60,
   "metadata": {},
   "outputs": [],
   "source": [
    "point=np.array([[1,0,0,1]])"
   ]
  },
  {
   "attachments": {},
   "cell_type": "markdown",
   "metadata": {},
   "source": [
    "-phi -> Z\n",
    "\n",
    "-theta -> x vers Y"
   ]
  },
  {
   "attachments": {},
   "cell_type": "markdown",
   "metadata": {},
   "source": [
    "-Vector Creation "
   ]
  },
  {
   "cell_type": "code",
   "execution_count": 91,
   "metadata": {},
   "outputs": [],
   "source": [
    "def Vector_Creation(theta, angle_max):\n",
    "    qotient = int(angle_max // theta) + 1\n",
    "    circles = np.array([[k,k*theta,np.arccos((np.cos(theta)-np.cos(k*theta)**2)/np.sin(k*theta)**2)] for k in range(1,qotient)])\n",
    "    return circles"
   ]
  },
  {
   "cell_type": "code",
   "execution_count": 92,
   "metadata": {},
   "outputs": [],
   "source": [
    "theta=np.pi / 6\n",
    "angle_max=np.pi / 2\n",
    "circle=Vector_Creation(theta, angle_max)"
   ]
  },
  {
   "cell_type": "code",
   "execution_count": 95,
   "metadata": {},
   "outputs": [
    {
     "name": "stdout",
     "output_type": "stream",
     "text": [
      "1.0881762133641693 [1.         0.52359878 1.08817621]\n",
      "0.6069925038746671 [2.         1.04719755 0.6069925 ]\n",
      "0.5235987755982987 [3.         1.57079633 0.52359878]\n"
     ]
    }
   ],
   "source": [
    "for c in circle:\n",
    "    print(c[-1],c)"
   ]
  },
  {
   "attachments": {},
   "cell_type": "markdown",
   "metadata": {},
   "source": [
    "# Dijkstra's shortest path algorithm"
   ]
  },
  {
   "cell_type": "code",
   "execution_count": 97,
   "metadata": {},
   "outputs": [],
   "source": [
    "import networkx as nx"
   ]
  },
  {
   "cell_type": "code",
   "execution_count": 98,
   "metadata": {},
   "outputs": [
    {
     "data": {
      "text/plain": [
       "['A', 'D', 'C']"
      ]
     },
     "execution_count": 98,
     "metadata": {},
     "output_type": "execute_result"
    }
   ],
   "source": [
    "G = nx.DiGraph()  # noeud orienté\n",
    "G.add_weighted_edges_from([(\"A\", \"C\",3),\n",
    "                           (\"A\", \"E\",2),\n",
    "                           (\"A\", \"D\",1),\n",
    "                           (\"D\", \"C\",1)])\n",
    "\n",
    "vectors = {\n",
    "    \"A\": [1, 2, 3],\n",
    "    \"D\": [4, 5, 6],\n",
    "    \"C\": [7, 8, 9]\n",
    "}\n",
    "for sommet, vecteur in vectors.items():\n",
    "    G.nodes[sommet][\"vecteur\"] = vecteur\n",
    "shortest_path = nx.dijkstra_path(G, \"A\", \"C\")\n",
    "shortest_path"
   ]
  },
  {
   "attachments": {},
   "cell_type": "markdown",
   "metadata": {},
   "source": [
    "# Free Path"
   ]
  },
  {
   "cell_type": "code",
   "execution_count": 89,
   "metadata": {},
   "outputs": [],
   "source": [
    "def  FreePath(vector_head, tool_path, theta, theta_max, head_print_CAD, printed_object_CAD, scale_voxel, scale_print):\n",
    "\n",
    "    vox = Voxels(scale_print,scale_voxel)\n",
    "\n",
    "    surface_printed = vox.Voxelise_object(printed_object_CAD)\n",
    "    vox.add_density(surface_printed)\n",
    "\n",
    "    print_head = vox.Voxelise_object(head_print_CAD)\n",
    "\n",
    "\n",
    "#   build_graph\n",
    "    num_layers = len(tool_path)\n",
    "    source = 's'\n",
    "    target = 't'\n",
    "    \n",
    "    G = nx.DiGraph()\n",
    "    G.add_node(source)\n",
    "    G.add_node(target)\n",
    "                \n",
    "    layer_vertex = {i: [] for i in range(num_layers)}\n",
    "    Circle=Vector_Creation(theta, angle_max)\n",
    "    \n",
    "    for i in range(num_layers):\n",
    "        if i > 0:\n",
    "            prev_layer = i - 1    # Récupérez les sommets de l'étage précédent\n",
    "            prev_layer_vertices = layer_vertex[prev_layer]\n",
    "\n",
    "        for j, vec1 in enumerate(Circle):\n",
    "            position = move_object_rotation(print_head,tool_path[i], angle =(Circle[-2], Circle[-1])) # modifie la position de la tete dans les coordonnées associé au voxels\n",
    "            if not vox.density(position): # s'il n'y a pas de desnité (pas d'obstacle)\n",
    "                current_vertex = (i, j)  #  name of the vertex\n",
    "                G.add_node(current_vertex, vector=vec1, angle=theta) # creer le sommet white atribute \n",
    "                layer_vertex[i].append(current_vertex)  # Ajoute les sommets aux listes d'étages\n",
    "                if i > 0:\n",
    "                    for prev_vertex in prev_layer_vertices: # creer des liaison entre les etages si la condition angulaire est respécté\n",
    "                        angle = abs(G.nodes[prev_vertex]['angle']-G.nodes[current_vertex]['angle'])\n",
    "                        if angle <= theta:\n",
    "                            G.add_edge(prev_vertex, current_vertex, weight=angle)\n",
    "                if i == 0:\n",
    "                    G.add_edge(source, current_vertex, weight=0)\n",
    "                if i == num_layers-1:\n",
    "                    G.add_edge(current_vertex,target ,weight=0)\n",
    "        vox.add_density(tool_path[i])\n",
    "\n",
    "    shortest_path = nx.dijkstra_path(G, source, target)\n",
    "\n",
    "\n",
    "    "
   ]
  }
 ],
 "metadata": {
  "kernelspec": {
   "display_name": "myenv",
   "language": "python",
   "name": "python3"
  },
  "language_info": {
   "codemirror_mode": {
    "name": "ipython",
    "version": 3
   },
   "file_extension": ".py",
   "mimetype": "text/x-python",
   "name": "python",
   "nbconvert_exporter": "python",
   "pygments_lexer": "ipython3",
   "version": "3.10.11"
  },
  "orig_nbformat": 4
 },
 "nbformat": 4,
 "nbformat_minor": 2
}
