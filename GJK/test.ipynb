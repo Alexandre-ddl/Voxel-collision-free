{
 "cells": [
  {
   "cell_type": "code",
   "execution_count": 1,
   "id": "ca950929",
   "metadata": {},
   "outputs": [],
   "source": [
    "from EPA import EPA\n",
    "from GJK import GJK\n",
    "from Polytope import Polytope\n",
    "from Simplex import Simplex\n",
    "from Support import support\n",
    "\n",
    "import numpy as np\n",
    "import open3d as o3d\n",
    "import itertools"
   ]
  },
  {
   "cell_type": "code",
   "execution_count": 2,
   "id": "d7f13983",
   "metadata": {},
   "outputs": [],
   "source": [
    "def op3D(points, couleur = [1, 0, 0]):\n",
    "    pcd = o3d.geometry.PointCloud()\n",
    "    pcd.points = o3d.utility.Vector3dVector(points)\n",
    "    pcd.colors = o3d.utility.Vector3dVector(np.full((len(points), 3), couleur))\n",
    "    return pcd\n",
    "\n",
    "def visualisation(see_what : list):\n",
    "    create_coordinate_frame = o3d.geometry.TriangleMesh.create_coordinate_frame(size=1, origin=[0, 0, 0])\n",
    "    see_what.append(create_coordinate_frame)\n",
    "    o3d.visualization.draw_geometries(see_what, mesh_show_wireframe=False )\n",
    "     \n",
    "def op3D_ligne(points):\n",
    "    lines = []\n",
    "    for i, j in itertools.combinations(range(len(points)), 2):\n",
    "        lines.append([i, j])\n",
    "\n",
    "    lines = np.array(lines)\n",
    "    line_set = o3d.geometry.LineSet(\n",
    "        points=o3d.utility.Vector3dVector(points),\n",
    "        lines=o3d.utility.Vector2iVector(lines),)\n",
    "    \n",
    "    return line_set\n",
    "\n",
    "def Mesh(points,triangles):\n",
    "    \n",
    "    mesh = o3d.geometry.TriangleMesh(\n",
    "            vertices=o3d.utility.Vector3dVector(points),\n",
    "            triangles=o3d.utility.Vector3iVector(triangles),\n",
    "            )\n",
    "    return mesh"
   ]
  },
  {
   "cell_type": "code",
   "execution_count": 12,
   "id": "64c5111c",
   "metadata": {},
   "outputs": [],
   "source": [
    "def generate_sphere(radius, center, num_points):\n",
    "    points = []\n",
    "    for _ in range(num_points):\n",
    "        theta = 2 * np.pi * np.random.rand()\n",
    "        phi = np.arccos(2 * np.random.rand() - 1)\n",
    "        x = center[0] + radius * np.sin(phi) * np.cos(theta)\n",
    "        y = center[1] + radius * np.sin(phi) * np.sin(theta)\n",
    "        z = center[2] + radius * np.cos(phi)\n",
    "        points.append([x, y, z])\n",
    "    return np.array(points)\n",
    "# Générer deux sphères\n",
    "sphere_1 = generate_sphere(1., [0., 0., 0.], 100000)  # rayon 1, centre à l'origine, 1000 points\n",
    "sphere_2 = generate_sphere(1.5, [1., 0., 0.], 1000000)  # rayon 1, centre à (2,2,2), 1000 points\n",
    "\n",
    "sph_1 = op3D(sphere_1)\n",
    "sph_2 = op3D(sphere_2,[0,0,0])"
   ]
  },
  {
   "cell_type": "code",
   "execution_count": 7,
   "id": "1daa8c1d",
   "metadata": {},
   "outputs": [
    {
     "name": "stdout",
     "output_type": "stream",
     "text": [
      "\u001b[1;33m[Open3D WARNING] GLFW Error: Cocoa: Failed to find service port for display\u001b[0;m\n",
      "\u001b[1;33m[Open3D WARNING] GLFW Error: Cocoa: Failed to find service port for display\u001b[0;m\n",
      "\u001b[1;33m[Open3D WARNING] GLFW Error: Cocoa: Failed to find service port for display\u001b[0;m\n",
      "\u001b[1;33m[Open3D WARNING] GLFW Error: Cocoa: Failed to find service port for display\u001b[0;m\n"
     ]
    }
   ],
   "source": [
    "visualisation([sph_1,sph_2])"
   ]
  },
  {
   "cell_type": "code",
   "execution_count": 13,
   "id": "5e5e9276",
   "metadata": {},
   "outputs": [
    {
     "data": {
      "text/plain": [
       "True"
      ]
     },
     "execution_count": 13,
     "metadata": {},
     "output_type": "execute_result"
    }
   ],
   "source": [
    "direction = np.array([1,0,0]) \n",
    "simplex = [support(sphere_1, sphere_2, -direction)]\n",
    "simp = Simplex(simplex)\n",
    "\n",
    "GJK(sphere_1, sphere_2,simp)"
   ]
  },
  {
   "cell_type": "code",
   "execution_count": 14,
   "id": "66e66083",
   "metadata": {},
   "outputs": [],
   "source": [
    "eps = 1e-16\n",
    "poly ,sup , i  = EPA(sphere_1,sphere_2,simp.simplex,eps)"
   ]
  },
  {
   "cell_type": "code",
   "execution_count": 15,
   "id": "895ed177",
   "metadata": {},
   "outputs": [
    {
     "data": {
      "text/plain": [
       "array([ 1.49993175, -0.01107407,  0.00701255])"
      ]
     },
     "execution_count": 15,
     "metadata": {},
     "output_type": "execute_result"
    }
   ],
   "source": [
    "sup"
   ]
  },
  {
   "cell_type": "code",
   "execution_count": 16,
   "id": "a8d5d5a9",
   "metadata": {},
   "outputs": [
    {
     "data": {
      "text/plain": [
       "68"
      ]
     },
     "execution_count": 16,
     "metadata": {},
     "output_type": "execute_result"
    }
   ],
   "source": [
    "i"
   ]
  },
  {
   "cell_type": "code",
   "execution_count": 17,
   "id": "0b607052",
   "metadata": {},
   "outputs": [],
   "source": [
    "def verif(Visu):        #vertexs,faces):\n",
    "    #Visu =  mesh(np.array(vertexs),np.array(faces))\n",
    "    point_cloud = Visu.sample_points_uniformly(100000)\n",
    "    hull, _ = point_cloud.compute_convex_hull()\n",
    "    hull_ls = o3d.geometry.LineSet.create_from_triangle_mesh(hull)\n",
    "    hull_ls.paint_uniform_color((1, 0, 0))\n",
    "    visualisation([hull_ls,point_cloud])\n",
    "    \n",
    "    #return hull_ls,point_cloud"
   ]
  },
  {
   "cell_type": "markdown",
   "id": "df824af5",
   "metadata": {},
   "source": [
    "- https://blog.winter.dev/2020/gjk-algorithm/\n",
    "- https://github.com/AlexanderFabisch/distance3d/tree/master/distance3d\n",
    "- http://vmlblog.free.fr/index.php?article52/algorithme-gjk\n",
    "- https://www.toptal.com/game/video-game-physics-part-ii-collision-detection-for-solid-objects\n",
    "- https://www.youtube.com/watch?v=DGVZYdlw_uo&t=197s\n",
    "\n",
    "- https://blog.winter.dev/2020/epa-algorithm/\n",
    "- https://handmade.network/forums/t/1521-gjk_+_expanding_polytope_algorithm_-_implementation_and_visualization\n",
    "- https://github.com/SarahWeiii/CoACD?search=1"
   ]
  },
  {
   "cell_type": "code",
   "execution_count": 20,
   "id": "bd6401f5",
   "metadata": {
    "scrolled": true
   },
   "outputs": [
    {
     "name": "stdout",
     "output_type": "stream",
     "text": [
      "[2023-05-23 17:12:23.884] [CoACD] [info] threshold               0.05\n",
      "[2023-05-23 17:12:23.884] [CoACD] [info] max # convex hull       -1\n",
      "[2023-05-23 17:12:23.884] [CoACD] [info] preprocess              true\n",
      "[2023-05-23 17:12:23.884] [CoACD] [info] preprocess resolution   30\n",
      "[2023-05-23 17:12:23.884] [CoACD] [info] pca                     false\n",
      "[2023-05-23 17:12:23.884] [CoACD] [info] mcts max depth          3\n",
      "[2023-05-23 17:12:23.884] [CoACD] [info] mcts nodes              20\n",
      "[2023-05-23 17:12:23.884] [CoACD] [info] mcts iterations         150\n",
      "[2023-05-23 17:12:23.884] [CoACD] [info] merge                   true\n",
      "[2023-05-23 17:12:23.884] [CoACD] [info] seed                    1234\n",
      "[2023-05-23 17:12:23.884] [CoACD] [info]  - Preprocess\n",
      "[2023-05-23 17:12:23.884] [CoACD] [info] Preprocess resolution: 30\n",
      "[2023-05-23 17:12:23.920] [CoACD] [info] Preprocess Time: 0.169762s\n",
      "[2023-05-23 17:12:23.921] [CoACD] [info] # Points: 19164\n",
      "[2023-05-23 17:12:23.921] [CoACD] [info] # Triangles: 38324\n",
      "[2023-05-23 17:12:23.921] [CoACD] [info]  - Decomposition (MCTS)\n",
      "[2023-05-23 17:12:23.921] [CoACD] [info] iter 0 ---- waiting pool: 1\n",
      "[2023-05-23 17:12:23.921] [CoACD] [info] Processing [0%]\n",
      "[2023-05-23 17:12:26.906] [CoACD] [info] Processing [100%]\n",
      "[2023-05-23 17:12:26.906] [CoACD] [info] iter 1 ---- waiting pool: 2\n",
      "[2023-05-23 17:12:26.906] [CoACD] [info] Processing [50%]\n",
      "[2023-05-23 17:12:26.906] [CoACD] [info] Processing [0%]\n",
      "[2023-05-23 17:12:28.863] [CoACD] [info] Processing [100%]\n",
      "[2023-05-23 17:12:28.864] [CoACD] [info] iter 2 ---- waiting pool: 4\n",
      "[2023-05-23 17:12:28.864] [CoACD] [info] Processing [50%]\n",
      "[2023-05-23 17:12:28.864] [CoACD] [info] Processing [75%]\n",
      "[2023-05-23 17:12:28.864] [CoACD] [info] Processing [0%]\n",
      "[2023-05-23 17:12:28.864] [CoACD] [info] Processing [25%]\n",
      "[2023-05-23 17:12:30.239] [CoACD] [info] Processing [100%]\n",
      "[2023-05-23 17:12:30.239] [CoACD] [info] iter 3 ---- waiting pool: 8\n",
      "[2023-05-23 17:12:30.239] [CoACD] [info] Processing [37.5%]\n",
      "[2023-05-23 17:12:30.239] [CoACD] [info] Processing [87.5%]\n",
      "[2023-05-23 17:12:30.239] [CoACD] [info] Processing [12.5%]\n",
      "[2023-05-23 17:12:30.239] [CoACD] [info] Processing [50%]\n",
      "[2023-05-23 17:12:30.239] [CoACD] [info] Processing [75%]\n",
      "[2023-05-23 17:12:30.239] [CoACD] [info] Processing [0%]\n",
      "[2023-05-23 17:12:30.239] [CoACD] [info] Processing [62.5%]\n",
      "[2023-05-23 17:12:30.239] [CoACD] [info] Processing [25%]\n",
      "[2023-05-23 17:12:32.075] [CoACD] [info] Processing [100%]\n",
      "[2023-05-23 17:12:32.077] [CoACD] [info] iter 4 ---- waiting pool: 16\n",
      "[2023-05-23 17:12:32.077] [CoACD] [info] Processing [62.5%]\n",
      "[2023-05-23 17:12:32.077] [CoACD] [info] Processing [25%]\n",
      "[2023-05-23 17:12:32.077] [CoACD] [info] Processing [75%]\n",
      "[2023-05-23 17:12:32.077] [CoACD] [info] Processing [50%]\n",
      "[2023-05-23 17:12:32.077] [CoACD] [info] Processing [37.5%]\n",
      "[2023-05-23 17:12:32.077] [CoACD] [info] Processing [12.5%]\n",
      "[2023-05-23 17:12:32.077] [CoACD] [info] Processing [87.5%]\n",
      "[2023-05-23 17:12:32.077] [CoACD] [info] Processing [0%]\n",
      "[2023-05-23 17:12:34.588] [CoACD] [info] Processing [100%]\n",
      "[2023-05-23 17:12:34.589] [CoACD] [info] iter 5 ---- waiting pool: 32\n",
      "[2023-05-23 17:12:34.589] [CoACD] [info] Processing [50%]\n",
      "[2023-05-23 17:12:34.589] [CoACD] [info] Processing [75%]\n",
      "[2023-05-23 17:12:34.589] [CoACD] [info] Processing [12.5%]\n",
      "[2023-05-23 17:12:34.589] [CoACD] [info] Processing [87.5%]\n",
      "[2023-05-23 17:12:34.589] [CoACD] [info] Processing [37.5%]\n",
      "[2023-05-23 17:12:34.589] [CoACD] [info] Processing [62.5%]\n",
      "[2023-05-23 17:12:34.589] [CoACD] [info] Processing [0%]\n",
      "[2023-05-23 17:12:34.589] [CoACD] [info] Processing [25%]\n",
      "[2023-05-23 17:12:37.145] [CoACD] [info] Processing [100%]\n",
      "[2023-05-23 17:12:37.146] [CoACD] [info] iter 6 ---- waiting pool: 30\n",
      "[2023-05-23 17:12:37.146] [CoACD] [info] Processing [26.666666666666668%]\n",
      "[2023-05-23 17:12:37.146] [CoACD] [info] Processing [66.66666666666667%]\n",
      "[2023-05-23 17:12:37.146] [CoACD] [info] Processing [13.333333333333334%]\n",
      "[2023-05-23 17:12:37.146] [CoACD] [info] Processing [53.333333333333336%]\n",
      "[2023-05-23 17:12:37.146] [CoACD] [info] Processing [0%]\n",
      "[2023-05-23 17:12:37.146] [CoACD] [info] Processing [80%]\n",
      "[2023-05-23 17:12:37.146] [CoACD] [info] Processing [40%]\n",
      "[2023-05-23 17:12:37.159] [CoACD] [info] Processing [93.33333333333333%]\n",
      "[2023-05-23 17:12:37.182] [CoACD] [info] Processing [100%]\n",
      "[2023-05-23 17:12:37.182] [CoACD] [info]  - Merge Convex Hulls\n",
      "[2023-05-23 17:12:37.792] [CoACD] [info] Compute Time: 13.87062600068748s\n",
      "[2023-05-23 17:12:37.792] [CoACD] [info] # Convex Hulls: 47\n",
      "\u001b[1;33m[Open3D WARNING] GLFW Error: Cocoa: Failed to find service port for display\u001b[0;m\n",
      "\u001b[1;33m[Open3D WARNING] GLFW Error: Cocoa: Failed to find service port for display\u001b[0;m\n"
     ]
    }
   ],
   "source": [
    "import trimesh \n",
    "import coacd\n",
    "\n",
    "\n",
    "\n",
    "tool = trimesh.load('../Object/collision.stl')#'Object/Deposition Head.stl')\n",
    "\n",
    "mesh = coacd.Mesh(tool.vertices, tool.faces)\n",
    "\n",
    "parts = coacd.run_coacd(mesh)\n",
    "\n",
    "full=[]\n",
    "for part in parts:\n",
    "    Visu= Mesh(part[0],part[1])\n",
    "    point_cloud = Visu.sample_points_uniformly(10000)\n",
    "    full.append(point_cloud)\n",
    "\n",
    "    \n",
    "collision = o3d.io.read_triangle_mesh('../Object/collision.stl')\n",
    "visualisation(full+[collision])"
   ]
  },
  {
   "cell_type": "code",
   "execution_count": null,
   "id": "ee792ff3",
   "metadata": {},
   "outputs": [],
   "source": []
  }
 ],
 "metadata": {
  "kernelspec": {
   "display_name": "Python 3 (ipykernel)",
   "language": "python",
   "name": "python3"
  },
  "language_info": {
   "codemirror_mode": {
    "name": "ipython",
    "version": 3
   },
   "file_extension": ".py",
   "mimetype": "text/x-python",
   "name": "python",
   "nbconvert_exporter": "python",
   "pygments_lexer": "ipython3",
   "version": "3.10.10"
  }
 },
 "nbformat": 4,
 "nbformat_minor": 5
}
